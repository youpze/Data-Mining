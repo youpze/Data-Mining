{
 "cells": [
  {
   "cell_type": "code",
   "execution_count": 1,
   "id": "8c835381-afde-4419-93d0-119be0aa855d",
   "metadata": {},
   "outputs": [],
   "source": [
    "import pandas as pd\n",
    "from sklearn.model_selection import TimeSeriesSplit, train_test_split\n",
    "import numpy as np\n",
    "import tensorflow as tf\n",
    "from tensorflow.keras.models import Sequential\n",
    "from tensorflow.keras.layers import Dense, LSTM, Dropout\n",
    "from sklearn.metrics import mean_squared_error, mean_absolute_error\n",
    "from tensorflow.keras.utils import to_categorical\n",
    "import matplotlib.pyplot as plt\n",
    "from sklearn.metrics import confusion_matrix, classification_report, ConfusionMatrixDisplay\n",
    "import seaborn as sns\n",
    "from sklearn.preprocessing import OneHotEncoder\n",
    "from tensorflow.keras.preprocessing.sequence import pad_sequences\n",
    "import keras_tuner as kt\n",
    "import random\n",
    "from sklearn.utils.class_weight import compute_class_weight\n",
    "from collections import Counter\n",
    "from sklearn.metrics import mean_squared_error, mean_absolute_error, r2_score\n",
    "from tensorflow.keras import regularizers\n",
    "from sklearn.preprocessing import MinMaxScaler"
   ]
  },
  {
   "cell_type": "code",
   "execution_count": 2,
   "id": "7892bd39-02c3-4e5d-b498-060880b76a34",
   "metadata": {},
   "outputs": [],
   "source": [
    "# Set the random seed for reproducibility\n",
    "seed_value = 22\n",
    "random.seed(seed_value)\n",
    "np.random.seed(seed_value)\n",
    "tf.random.set_seed(seed_value)"
   ]
  },
  {
   "cell_type": "code",
   "execution_count": 3,
   "id": "f5034257-9aad-4301-b06c-9baf3f8dc426",
   "metadata": {},
   "outputs": [],
   "source": [
    "df=pd.read_csv(\"dataset.csv\")"
   ]
  },
  {
   "cell_type": "code",
   "execution_count": 4,
   "id": "838f11eb-6afc-4a8b-9974-d8ec479354be",
   "metadata": {},
   "outputs": [],
   "source": [
    "#sort by data \n",
    "df['day'] = pd.to_datetime(df['day'])\n",
    "df = df.sort_values(by='day')"
   ]
  },
  {
   "cell_type": "code",
   "execution_count": 5,
   "id": "387f7705-b812-44e4-8824-7274791b4594",
   "metadata": {},
   "outputs": [
    {
     "data": {
      "text/plain": [
       "27"
      ]
     },
     "execution_count": 5,
     "metadata": {},
     "output_type": "execute_result"
    }
   ],
   "source": [
    "list_names = df['id'].unique()\n",
    "len(df['id'].unique())"
   ]
  },
  {
   "cell_type": "code",
   "execution_count": 6,
   "id": "77e3c902-7af2-4ed2-888e-027d8104f97f",
   "metadata": {},
   "outputs": [],
   "source": [
    "list_names = df['id'].unique()\n",
    "train_names = list_names[:21]\n",
    "val_names = list_names[21:24]\n",
    "test_names = list_names[24:27]"
   ]
  },
  {
   "cell_type": "code",
   "execution_count": 7,
   "id": "3455d13d-0866-4f06-b1c8-2db84d9cdd91",
   "metadata": {},
   "outputs": [
    {
     "name": "stdout",
     "output_type": "stream",
     "text": [
      "Train shape: (834, 4, 19)\n",
      "Val shape: (99, 4, 19)\n",
      "Test shape: (128, 4, 19)\n"
     ]
    }
   ],
   "source": [
    "window_size = 4 # parameter\n",
    "X_all = []\n",
    "y_all = []\n",
    "subject_seq_ids = []\n",
    "\n",
    "for subj in df['id'].unique():\n",
    "    df_subj = df[df['id'] == subj].sort_values('day')\n",
    "    features = df_subj.drop(columns=['id', 'day', 'target_mood', 'Unnamed: 0']).to_numpy() # Removed 'mood_class' from drop\n",
    "    targets = df_subj['target_mood'].to_numpy() # Use target_mood directly\n",
    "\n",
    "    for i in range(len(df_subj) - window_size):\n",
    "        X_all.append(features[i:i+window_size])\n",
    "        y_all.append(targets[i+window_size])\n",
    "        subject_seq_ids.append(subj)\n",
    "\n",
    "X_all = np.array(X_all)\n",
    "y_all = np.array(y_all) # y_all is now the raw target_mood values\n",
    "subject_seq_ids = np.array(subject_seq_ids)\n",
    "\n",
    "train_ids = set(train_names)\n",
    "val_ids = set(val_names)\n",
    "test_ids = set(test_names)\n",
    "\n",
    "train_mask = np.isin(subject_seq_ids, list(train_ids))\n",
    "val_mask = np.isin(subject_seq_ids, list(val_ids))\n",
    "test_mask = np.isin(subject_seq_ids, list(test_ids))\n",
    "\n",
    "X_train = X_all[train_mask]\n",
    "y_train = y_all[train_mask]\n",
    "\n",
    "X_val = X_all[val_mask]\n",
    "y_val = y_all[val_mask]\n",
    "\n",
    "X_test = X_all[test_mask]\n",
    "y_test = y_all[test_mask]\n",
    "\n",
    "print(\"Train shape:\", X_train.shape)\n",
    "print(\"Val shape:\", X_val.shape)\n",
    "print(\"Test shape:\", X_test.shape)\n",
    "\n",
    "num_features = X_train.shape[2]\n"
   ]
  },
  {
   "cell_type": "code",
   "execution_count": 8,
   "id": "2d6d1fbd-ad85-4855-8b91-a7f9a38ff9c9",
   "metadata": {},
   "outputs": [
    {
     "data": {
      "text/plain": [
       "'scaler = StandardScaler()\\n#scaler = MinMaxScaler(feature_range=(-1, 1))\\n\\n# Reshape X_train from 3D (sequences, window_size, features) to 2D (samples * window_size, features)\\n# for fitting the scaler. Each time step across all sequences becomes a sample for fitting.\\nX_train_reshaped = X_train.reshape(-1, num_features)\\n\\n# Fit the scaler ONLY on the training data\\nscaler.fit(X_train_reshaped)\\n\\n# Transform the training, validation, and test data using the fitted scaler\\nX_train_scaled_reshaped = scaler.transform(X_train_reshaped)\\nX_val_scaled_reshaped = scaler.transform(X_val.reshape(-1, num_features))\\nX_test_scaled_reshaped = scaler.transform(X_test.reshape(-1, num_features))\\n\\n# Reshape the scaled data back to the original 3D sequence shape\\nX_train = X_train_scaled_reshaped.reshape(-1, window_size, num_features)\\nX_val= X_val_scaled_reshaped.reshape(-1, window_size, num_features)\\nX_test = X_test_scaled_reshaped.reshape(-1, window_size, num_features)\\n\\nprint(\"Scaled Train shape:\", X_train.shape)\\nprint(\"Scaled Val shape:\", X_val.shape)\\nprint(\"Scaled Test shape:\", X_test.shape)'"
      ]
     },
     "execution_count": 8,
     "metadata": {},
     "output_type": "execute_result"
    }
   ],
   "source": [
    "\"\"\"scaler = StandardScaler()\n",
    "#scaler = MinMaxScaler(feature_range=(-1, 1))\n",
    "\n",
    "# Reshape X_train from 3D (sequences, window_size, features) to 2D (samples * window_size, features)\n",
    "# for fitting the scaler. Each time step across all sequences becomes a sample for fitting.\n",
    "X_train_reshaped = X_train.reshape(-1, num_features)\n",
    "\n",
    "# Fit the scaler ONLY on the training data\n",
    "scaler.fit(X_train_reshaped)\n",
    "\n",
    "# Transform the training, validation, and test data using the fitted scaler\n",
    "X_train_scaled_reshaped = scaler.transform(X_train_reshaped)\n",
    "X_val_scaled_reshaped = scaler.transform(X_val.reshape(-1, num_features))\n",
    "X_test_scaled_reshaped = scaler.transform(X_test.reshape(-1, num_features))\n",
    "\n",
    "# Reshape the scaled data back to the original 3D sequence shape\n",
    "X_train = X_train_scaled_reshaped.reshape(-1, window_size, num_features)\n",
    "X_val= X_val_scaled_reshaped.reshape(-1, window_size, num_features)\n",
    "X_test = X_test_scaled_reshaped.reshape(-1, window_size, num_features)\n",
    "\n",
    "print(\"Scaled Train shape:\", X_train.shape)\n",
    "print(\"Scaled Val shape:\", X_val.shape)\n",
    "print(\"Scaled Test shape:\", X_test.shape)\"\"\""
   ]
  },
  {
   "cell_type": "code",
   "execution_count": 9,
   "id": "02c81060-f583-4272-a911-49dd366c0efd",
   "metadata": {},
   "outputs": [],
   "source": [
    "def build_model(hp):\n",
    "    model = Sequential()\n",
    "    model.add(LSTM(units=hp.Int('units_lstm1', min_value=32, max_value=256, step=32),\n",
    "                   return_sequences=True,\n",
    "                   input_shape=(window_size, num_features)))\n",
    "    model.add(Dropout(hp.Float('dropout_rate1', min_value=0.1, max_value=0.5, step=0.1)))\n",
    "    model.add(LSTM(units=hp.Int('units_lstm2', min_value=16, max_value=128, step=16)))\n",
    "    model.add(Dense(units=hp.Int('units_dense', min_value=8, max_value=64, step=8),\n",
    "                    activation='relu'))\n",
    "    model.add(Dropout(hp.Float('dropout_rate2', min_value=0.05, max_value=0.4, step=0.05)))\n",
    "    model.add(Dense(1)) # Output layer with 1 unit for regression (no activation by default)\n",
    "    optimizer = hp.Choice('optimizer', values=['adam', 'rmsprop', 'sgd', 'nadam'])\n",
    "    model.compile(optimizer=optimizer,\n",
    "                  loss='mse', # Use Mean Squared Error for regression\n",
    "                  metrics=['mae']) # Use Mean Absolute Error as a metric\n",
    "    return model"
   ]
  },
  {
   "cell_type": "code",
   "execution_count": 10,
   "id": "3f64b4e2-8432-4f15-8380-503f0cf4a2bf",
   "metadata": {},
   "outputs": [
    {
     "name": "stdout",
     "output_type": "stream",
     "text": [
      "Trial 50 Complete [00h 00m 11s]\n",
      "val_loss: 0.5558728575706482\n",
      "\n",
      "Best val_loss So Far: 0.3426896333694458\n",
      "Total elapsed time: 00h 05m 56s\n"
     ]
    }
   ],
   "source": [
    "tuner = kt.RandomSearch(\n",
    "    build_model,\n",
    "    objective='val_loss', # Objective is validation loss (MSE in this case)\n",
    "    max_trials=50,\n",
    "    directory=\"my_dir\",\n",
    "    project_name=\"nn_tuning_regression\" # Changed project name for clarity\n",
    "     ,overwrite=True\n",
    ")\n",
    "stop_early = tf.keras.callbacks.EarlyStopping(monitor='val_loss', patience=3)\n",
    "################################################################################### HYPERPARAMTER TUNING ONLY FOR THE DEFAULT TRAININSDATA\n",
    "tuner.search(\n",
    "    X_train, y_train, # Use y_train (raw target_mood) for regression\n",
    "    epochs=100,\n",
    "    validation_data=(X_val, y_val), # Use y_val (raw target_mood) for regression\n",
    "    callbacks=[stop_early],\n",
    "    verbose=1)\n"
   ]
  },
  {
   "cell_type": "code",
   "execution_count": 34,
   "id": "a95a304a-5ad8-4193-96a4-94fb1d99b3ea",
   "metadata": {},
   "outputs": [
    {
     "name": "stdout",
     "output_type": "stream",
     "text": [
      "Best Hyperparameters Dictionary: {'units_lstm1': 192, 'dropout_rate1': 0.5, 'units_lstm2': 32, 'units_dense': 64, 'dropout_rate2': 0.4, 'optimizer': 'rmsprop'}\n",
      "Epoch 1/40\n"
     ]
    },
    {
     "name": "stderr",
     "output_type": "stream",
     "text": [
      "C:\\Users\\youpz\\anaconda3\\Lib\\site-packages\\keras\\src\\layers\\rnn\\rnn.py:200: UserWarning: Do not pass an `input_shape`/`input_dim` argument to a layer. When using Sequential models, prefer using an `Input(shape)` object as the first layer in the model instead.\n",
      "  super().__init__(**kwargs)\n"
     ]
    },
    {
     "name": "stdout",
     "output_type": "stream",
     "text": [
      "\u001b[1m105/105\u001b[0m \u001b[32m━━━━━━━━━━━━━━━━━━━━\u001b[0m\u001b[37m\u001b[0m \u001b[1m3s\u001b[0m 7ms/step - loss: 13.8984 - mae: 2.9776 - val_loss: 0.7625 - val_mae: 0.5745\n",
      "Epoch 2/40\n",
      "\u001b[1m105/105\u001b[0m \u001b[32m━━━━━━━━━━━━━━━━━━━━\u001b[0m\u001b[37m\u001b[0m \u001b[1m0s\u001b[0m 4ms/step - loss: 2.0776 - mae: 1.1348 - val_loss: 0.7916 - val_mae: 0.5522\n",
      "Epoch 3/40\n",
      "\u001b[1m105/105\u001b[0m \u001b[32m━━━━━━━━━━━━━━━━━━━━\u001b[0m\u001b[37m\u001b[0m \u001b[1m0s\u001b[0m 4ms/step - loss: 1.7407 - mae: 1.0046 - val_loss: 0.4998 - val_mae: 0.5625\n",
      "Epoch 4/40\n",
      "\u001b[1m105/105\u001b[0m \u001b[32m━━━━━━━━━━━━━━━━━━━━\u001b[0m\u001b[37m\u001b[0m \u001b[1m0s\u001b[0m 4ms/step - loss: 1.7595 - mae: 1.0532 - val_loss: 0.4790 - val_mae: 0.5212\n",
      "Epoch 5/40\n",
      "\u001b[1m105/105\u001b[0m \u001b[32m━━━━━━━━━━━━━━━━━━━━\u001b[0m\u001b[37m\u001b[0m \u001b[1m1s\u001b[0m 5ms/step - loss: 1.5020 - mae: 0.9659 - val_loss: 0.6663 - val_mae: 0.6508\n",
      "Epoch 6/40\n",
      "\u001b[1m105/105\u001b[0m \u001b[32m━━━━━━━━━━━━━━━━━━━━\u001b[0m\u001b[37m\u001b[0m \u001b[1m0s\u001b[0m 4ms/step - loss: 1.7254 - mae: 1.0443 - val_loss: 0.6341 - val_mae: 0.6002\n",
      "Epoch 7/40\n",
      "\u001b[1m105/105\u001b[0m \u001b[32m━━━━━━━━━━━━━━━━━━━━\u001b[0m\u001b[37m\u001b[0m \u001b[1m0s\u001b[0m 4ms/step - loss: 1.5653 - mae: 0.9785 - val_loss: 0.3834 - val_mae: 0.4622\n",
      "Epoch 8/40\n",
      "\u001b[1m105/105\u001b[0m \u001b[32m━━━━━━━━━━━━━━━━━━━━\u001b[0m\u001b[37m\u001b[0m \u001b[1m0s\u001b[0m 4ms/step - loss: 1.4973 - mae: 0.9764 - val_loss: 0.4803 - val_mae: 0.5349\n",
      "Epoch 9/40\n",
      "\u001b[1m105/105\u001b[0m \u001b[32m━━━━━━━━━━━━━━━━━━━━\u001b[0m\u001b[37m\u001b[0m \u001b[1m1s\u001b[0m 5ms/step - loss: 1.5471 - mae: 0.9778 - val_loss: 0.3832 - val_mae: 0.4724\n",
      "Epoch 10/40\n",
      "\u001b[1m105/105\u001b[0m \u001b[32m━━━━━━━━━━━━━━━━━━━━\u001b[0m\u001b[37m\u001b[0m \u001b[1m1s\u001b[0m 5ms/step - loss: 1.4916 - mae: 0.9438 - val_loss: 0.3733 - val_mae: 0.4634\n",
      "Epoch 11/40\n",
      "\u001b[1m105/105\u001b[0m \u001b[32m━━━━━━━━━━━━━━━━━━━━\u001b[0m\u001b[37m\u001b[0m \u001b[1m1s\u001b[0m 5ms/step - loss: 1.6125 - mae: 1.0036 - val_loss: 0.4541 - val_mae: 0.5152\n",
      "Epoch 12/40\n",
      "\u001b[1m105/105\u001b[0m \u001b[32m━━━━━━━━━━━━━━━━━━━━\u001b[0m\u001b[37m\u001b[0m \u001b[1m0s\u001b[0m 4ms/step - loss: 1.5161 - mae: 0.9486 - val_loss: 0.4377 - val_mae: 0.4959\n",
      "Epoch 13/40\n",
      "\u001b[1m105/105\u001b[0m \u001b[32m━━━━━━━━━━━━━━━━━━━━\u001b[0m\u001b[37m\u001b[0m \u001b[1m0s\u001b[0m 4ms/step - loss: 1.6444 - mae: 0.9983 - val_loss: 0.3911 - val_mae: 0.4943\n",
      "Epoch 14/40\n",
      "\u001b[1m105/105\u001b[0m \u001b[32m━━━━━━━━━━━━━━━━━━━━\u001b[0m\u001b[37m\u001b[0m \u001b[1m1s\u001b[0m 5ms/step - loss: 1.5422 - mae: 0.9714 - val_loss: 0.8513 - val_mae: 0.7003\n",
      "Epoch 15/40\n",
      "\u001b[1m105/105\u001b[0m \u001b[32m━━━━━━━━━━━━━━━━━━━━\u001b[0m\u001b[37m\u001b[0m \u001b[1m0s\u001b[0m 4ms/step - loss: 1.6788 - mae: 1.0348 - val_loss: 0.6941 - val_mae: 0.6354\n",
      "Epoch 16/40\n",
      "\u001b[1m105/105\u001b[0m \u001b[32m━━━━━━━━━━━━━━━━━━━━\u001b[0m\u001b[37m\u001b[0m \u001b[1m0s\u001b[0m 4ms/step - loss: 1.4770 - mae: 0.9421 - val_loss: 0.6562 - val_mae: 0.5648\n",
      "Epoch 17/40\n",
      "\u001b[1m105/105\u001b[0m \u001b[32m━━━━━━━━━━━━━━━━━━━━\u001b[0m\u001b[37m\u001b[0m \u001b[1m0s\u001b[0m 4ms/step - loss: 1.3629 - mae: 0.9133 - val_loss: 1.3143 - val_mae: 0.7718\n",
      "Epoch 18/40\n",
      "\u001b[1m105/105\u001b[0m \u001b[32m━━━━━━━━━━━━━━━━━━━━\u001b[0m\u001b[37m\u001b[0m \u001b[1m0s\u001b[0m 4ms/step - loss: 1.3641 - mae: 0.9339 - val_loss: 1.1787 - val_mae: 0.6137\n",
      "Epoch 19/40\n",
      "\u001b[1m105/105\u001b[0m \u001b[32m━━━━━━━━━━━━━━━━━━━━\u001b[0m\u001b[37m\u001b[0m \u001b[1m1s\u001b[0m 5ms/step - loss: 1.5925 - mae: 0.9861 - val_loss: 0.4168 - val_mae: 0.4918\n",
      "Epoch 20/40\n",
      "\u001b[1m105/105\u001b[0m \u001b[32m━━━━━━━━━━━━━━━━━━━━\u001b[0m\u001b[37m\u001b[0m \u001b[1m0s\u001b[0m 4ms/step - loss: 1.2590 - mae: 0.8834 - val_loss: 0.5203 - val_mae: 0.5314\n",
      "Epoch 21/40\n",
      "\u001b[1m105/105\u001b[0m \u001b[32m━━━━━━━━━━━━━━━━━━━━\u001b[0m\u001b[37m\u001b[0m \u001b[1m0s\u001b[0m 4ms/step - loss: 1.5092 - mae: 0.9556 - val_loss: 0.4977 - val_mae: 0.4962\n",
      "Epoch 22/40\n",
      "\u001b[1m105/105\u001b[0m \u001b[32m━━━━━━━━━━━━━━━━━━━━\u001b[0m\u001b[37m\u001b[0m \u001b[1m1s\u001b[0m 5ms/step - loss: 1.2525 - mae: 0.8783 - val_loss: 0.8625 - val_mae: 0.6062\n",
      "Epoch 23/40\n",
      "\u001b[1m105/105\u001b[0m \u001b[32m━━━━━━━━━━━━━━━━━━━━\u001b[0m\u001b[37m\u001b[0m \u001b[1m0s\u001b[0m 4ms/step - loss: 1.3198 - mae: 0.9110 - val_loss: 0.9313 - val_mae: 0.5799\n",
      "Epoch 24/40\n",
      "\u001b[1m105/105\u001b[0m \u001b[32m━━━━━━━━━━━━━━━━━━━━\u001b[0m\u001b[37m\u001b[0m \u001b[1m0s\u001b[0m 4ms/step - loss: 1.3234 - mae: 0.8811 - val_loss: 0.5762 - val_mae: 0.5834\n",
      "Epoch 25/40\n",
      "\u001b[1m105/105\u001b[0m \u001b[32m━━━━━━━━━━━━━━━━━━━━\u001b[0m\u001b[37m\u001b[0m \u001b[1m0s\u001b[0m 4ms/step - loss: 1.3140 - mae: 0.9340 - val_loss: 0.4319 - val_mae: 0.4918\n",
      "Epoch 26/40\n",
      "\u001b[1m105/105\u001b[0m \u001b[32m━━━━━━━━━━━━━━━━━━━━\u001b[0m\u001b[37m\u001b[0m \u001b[1m0s\u001b[0m 4ms/step - loss: 1.3808 - mae: 0.9270 - val_loss: 0.4069 - val_mae: 0.4720\n",
      "Epoch 27/40\n",
      "\u001b[1m105/105\u001b[0m \u001b[32m━━━━━━━━━━━━━━━━━━━━\u001b[0m\u001b[37m\u001b[0m \u001b[1m1s\u001b[0m 5ms/step - loss: 1.3626 - mae: 0.9200 - val_loss: 0.3610 - val_mae: 0.4626\n",
      "Epoch 28/40\n",
      "\u001b[1m105/105\u001b[0m \u001b[32m━━━━━━━━━━━━━━━━━━━━\u001b[0m\u001b[37m\u001b[0m \u001b[1m1s\u001b[0m 5ms/step - loss: 1.4740 - mae: 0.9212 - val_loss: 0.7318 - val_mae: 0.6520\n",
      "Epoch 29/40\n",
      "\u001b[1m105/105\u001b[0m \u001b[32m━━━━━━━━━━━━━━━━━━━━\u001b[0m\u001b[37m\u001b[0m \u001b[1m0s\u001b[0m 4ms/step - loss: 1.4578 - mae: 0.9371 - val_loss: 0.5057 - val_mae: 0.5149\n",
      "Epoch 30/40\n",
      "\u001b[1m105/105\u001b[0m \u001b[32m━━━━━━━━━━━━━━━━━━━━\u001b[0m\u001b[37m\u001b[0m \u001b[1m0s\u001b[0m 4ms/step - loss: 1.3544 - mae: 0.9203 - val_loss: 0.6014 - val_mae: 0.5430\n",
      "Epoch 31/40\n",
      "\u001b[1m105/105\u001b[0m \u001b[32m━━━━━━━━━━━━━━━━━━━━\u001b[0m\u001b[37m\u001b[0m \u001b[1m0s\u001b[0m 4ms/step - loss: 1.3342 - mae: 0.8907 - val_loss: 0.5343 - val_mae: 0.5122\n",
      "Epoch 32/40\n",
      "\u001b[1m105/105\u001b[0m \u001b[32m━━━━━━━━━━━━━━━━━━━━\u001b[0m\u001b[37m\u001b[0m \u001b[1m0s\u001b[0m 4ms/step - loss: 1.2546 - mae: 0.8799 - val_loss: 0.6177 - val_mae: 0.5248\n",
      "Epoch 33/40\n",
      "\u001b[1m105/105\u001b[0m \u001b[32m━━━━━━━━━━━━━━━━━━━━\u001b[0m\u001b[37m\u001b[0m \u001b[1m0s\u001b[0m 4ms/step - loss: 1.3883 - mae: 0.9244 - val_loss: 0.3637 - val_mae: 0.4659\n",
      "Epoch 34/40\n",
      "\u001b[1m105/105\u001b[0m \u001b[32m━━━━━━━━━━━━━━━━━━━━\u001b[0m\u001b[37m\u001b[0m \u001b[1m0s\u001b[0m 4ms/step - loss: 1.2965 - mae: 0.9118 - val_loss: 0.3570 - val_mae: 0.4601\n",
      "Epoch 35/40\n",
      "\u001b[1m105/105\u001b[0m \u001b[32m━━━━━━━━━━━━━━━━━━━━\u001b[0m\u001b[37m\u001b[0m \u001b[1m0s\u001b[0m 4ms/step - loss: 1.2997 - mae: 0.9069 - val_loss: 0.4565 - val_mae: 0.5176\n",
      "Epoch 36/40\n",
      "\u001b[1m105/105\u001b[0m \u001b[32m━━━━━━━━━━━━━━━━━━━━\u001b[0m\u001b[37m\u001b[0m \u001b[1m0s\u001b[0m 4ms/step - loss: 1.3076 - mae: 0.8952 - val_loss: 0.4297 - val_mae: 0.4874\n",
      "Epoch 37/40\n",
      "\u001b[1m105/105\u001b[0m \u001b[32m━━━━━━━━━━━━━━━━━━━━\u001b[0m\u001b[37m\u001b[0m \u001b[1m0s\u001b[0m 4ms/step - loss: 1.2330 - mae: 0.8788 - val_loss: 0.3689 - val_mae: 0.4602\n",
      "Epoch 38/40\n",
      "\u001b[1m105/105\u001b[0m \u001b[32m━━━━━━━━━━━━━━━━━━━━\u001b[0m\u001b[37m\u001b[0m \u001b[1m0s\u001b[0m 4ms/step - loss: 1.3137 - mae: 0.8916 - val_loss: 0.6007 - val_mae: 0.5849\n",
      "Epoch 39/40\n",
      "\u001b[1m105/105\u001b[0m \u001b[32m━━━━━━━━━━━━━━━━━━━━\u001b[0m\u001b[37m\u001b[0m \u001b[1m0s\u001b[0m 4ms/step - loss: 1.2693 - mae: 0.8764 - val_loss: 1.1388 - val_mae: 0.6381\n",
      "Epoch 40/40\n",
      "\u001b[1m105/105\u001b[0m \u001b[32m━━━━━━━━━━━━━━━━━━━━\u001b[0m\u001b[37m\u001b[0m \u001b[1m0s\u001b[0m 4ms/step - loss: 1.3176 - mae: 0.8974 - val_loss: 0.4603 - val_mae: 0.4991\n"
     ]
    }
   ],
   "source": [
    "best_hps = tuner.get_best_hyperparameters(num_trials=1)[0]\n",
    "print(\"Best Hyperparameters Dictionary:\", best_hps.values)\n",
    "\n",
    "# Train the model with the best hyperparameters\n",
    "best_model = tuner.hypermodel.build(best_hps)\n",
    "history = best_model.fit(X_train, y_train, epochs=40, batch_size=8, validation_data=(X_val, y_val)) # Use y_train and y_val"
   ]
  },
  {
   "cell_type": "code",
   "execution_count": 35,
   "id": "07235f68-1d51-44e2-870f-d772d2906b57",
   "metadata": {},
   "outputs": [
    {
     "name": "stdout",
     "output_type": "stream",
     "text": [
      "\u001b[1m4/4\u001b[0m \u001b[32m━━━━━━━━━━━━━━━━━━━━\u001b[0m\u001b[37m\u001b[0m \u001b[1m0s\u001b[0m 6ms/step  \n",
      "Mean Squared Error (MSE): 0.5186\n",
      "Mean Absolute Error (MAE): 0.5626\n",
      "R-squared (R2): 0.0401\n"
     ]
    },
    {
     "data": {
      "image/png": "[encoded data removed]",
      "text/plain": [
       "<Figure size 1000x600 with 1 Axes>"
      ]
     },
     "metadata": {},
     "output_type": "display_data"
    }
   ],
   "source": [
    "# Extract true labels (raw target_mood)\n",
    "y_true = y_test\n",
    "\n",
    "# Get predictions (y_pred will be continuous values for regression)\n",
    "y_pred = best_model.predict(X_test).flatten() # Flatten the output to 1D array\n",
    "\n",
    "\n",
    "mse = mean_squared_error(y_true, y_pred)\n",
    "mae = mean_absolute_error(y_true, y_pred)\n",
    "r2 = r2_score(y_true, y_pred)\n",
    "\n",
    "print(f\"Mean Squared Error (MSE): {mse:.4f}\")\n",
    "print(f\"Mean Absolute Error (MAE): {mae:.4f}\")\n",
    "print(f\"R-squared (R2): {r2:.4f}\")\n",
    "\n",
    "\n",
    "plt.figure(figsize=(10, 6))\n",
    "plt.scatter(y_true, y_pred, color='blue', alpha=0.5)\n",
    "plt.plot(y_true, y_true, color='red', linestyle='--') # Diagonal line for perfect predictions\n",
    "plt.xlabel(\"True Mood\")\n",
    "plt.ylabel(\"Predicted Mood\")\n",
    "plt.title(\"True Mood vs Predicted Mood (Regression)\")\n",
    "plt.grid(True)\n",
    "plt.show()"
   ]
  },
  {
   "cell_type": "code",
   "execution_count": null,
   "id": "277fbbdc-a403-4d5d-ae1f-08c2b06edd1f",
   "metadata": {},
   "outputs": [],
   "source": []
  }
 ],
 "metadata": {
  "kernelspec": {
   "display_name": "Python 3 (ipykernel)",
   "language": "python",
   "name": "python3"
  },
  "language_info": {
   "codemirror_mode": {
    "name": "ipython",
    "version": 3
   },
   "file_extension": ".py",
   "mimetype": "text/x-python",
   "name": "python",
   "nbconvert_exporter": "python",
   "pygments_lexer": "ipython3",
   "version": "3.12.4"
  }
 },
 "nbformat": 4,
 "nbformat_minor": 5
}
