{
 "cells": [
  {
   "cell_type": "code",
   "execution_count": 1,
   "id": "6f7216e6-00a4-4c20-929b-b64f545202de",
   "metadata": {},
   "outputs": [],
   "source": [
    "import pandas as pd\n",
    "from sklearn.model_selection import TimeSeriesSplit, train_test_split\n",
    "import numpy as np\n",
    "import tensorflow as tf\n",
    "from tensorflow.keras.models import Sequential\n",
    "from tensorflow.keras.layers import Dense, LSTM, Dropout\n",
    "from sklearn.metrics import mean_squared_error, mean_absolute_error\n",
    "from tensorflow.keras.utils import to_categorical\n",
    "import matplotlib.pyplot as plt\n",
    "from sklearn.metrics import confusion_matrix, classification_report, ConfusionMatrixDisplay\n",
    "import seaborn as sns\n",
    "from sklearn.preprocessing import OneHotEncoder"
   ]
  },
  {
   "cell_type": "code",
   "execution_count": 2,
   "id": "7733e719-dccb-46a6-93c1-2f617171e679",
   "metadata": {},
   "outputs": [],
   "source": [
    "df=pd.read_csv(\"dataset.csv\")"
   ]
  },
  {
   "cell_type": "code",
   "execution_count": null,
   "id": "0a6ac4aa-e771-45d4-94ce-c8e246556e1e",
   "metadata": {},
   "outputs": [],
   "source": [
    "list = [df[df['id']==i] for i t_names]\n",
    "tensor = torch.tensor(list)\n",
    "\n",
    "list = [df[df['id']==i] for i t_names]\n",
    "tensor = torch.tensor(list)\n",
    "\n",
    "list = [df[df['id']==i] for i t_names]\n",
    "tensor = torch.tensor(list)"
   ]
  },
  {
   "cell_type": "code",
   "execution_count": 3,
   "id": "e73f74a9-b38f-40b4-bc4c-c16eea097216",
   "metadata": {},
   "outputs": [
    {
     "data": {
      "text/plain": [
       "Index(['Unnamed: 0', 'activity', 'appCat.builtin', 'appCat.communication',\n",
       "       'appCat.entertainment', 'appCat.finance', 'appCat.game',\n",
       "       'appCat.office', 'appCat.other', 'appCat.social', 'appCat.travel',\n",
       "       'appCat.unknown', 'appCat.utilities', 'appCat.weather', 'call',\n",
       "       'circumplex.arousal', 'circumplex.valence', 'mood', 'screen', 'sms',\n",
       "       'id', 'day', 'target_mood'],\n",
       "      dtype='object')"
      ]
     },
     "execution_count": 3,
     "metadata": {},
     "output_type": "execute_result"
    }
   ],
   "source": [
    "df.columns"
   ]
  },
  {
   "cell_type": "code",
   "execution_count": 4,
   "id": "9f6180f9-afc3-46a7-adf2-d9eea728f1bf",
   "metadata": {},
   "outputs": [],
   "source": [
    "#sort by data \n",
    "df['day'] = pd.to_datetime(df['day'])\n",
    "df = df.sort_values(by='day')"
   ]
  },
  {
   "cell_type": "code",
   "execution_count": 5,
   "id": "3a85b86f-c255-4935-b457-a65dcdd61869",
   "metadata": {},
   "outputs": [
    {
     "data": {
      "text/plain": [
       "541   2014-03-13\n",
       "268   2014-03-13\n",
       "396   2014-03-13\n",
       "127   2014-03-14\n",
       "489   2014-03-14\n",
       "         ...    \n",
       "809   2014-06-03\n",
       "810   2014-06-04\n",
       "811   2014-06-05\n",
       "812   2014-06-06\n",
       "813   2014-06-07\n",
       "Name: day, Length: 1169, dtype: datetime64[ns]"
      ]
     },
     "execution_count": 5,
     "metadata": {},
     "output_type": "execute_result"
    }
   ],
   "source": [
    "df['day']"
   ]
  },
  {
   "cell_type": "code",
   "execution_count": 6,
   "id": "c6234014-6c25-48c1-bfb2-990d0b55490e",
   "metadata": {},
   "outputs": [
    {
     "data": {
      "text/plain": [
       "86"
      ]
     },
     "execution_count": 6,
     "metadata": {},
     "output_type": "execute_result"
    }
   ],
   "source": [
    "len(df['day'].unique())"
   ]
  },
  {
   "cell_type": "code",
   "execution_count": 7,
   "id": "2e7e8fe9-75f5-4032-be67-726f53d39847",
   "metadata": {},
   "outputs": [
    {
     "data": {
      "text/plain": [
       "27"
      ]
     },
     "execution_count": 7,
     "metadata": {},
     "output_type": "execute_result"
    }
   ],
   "source": [
    "list_names = df['id'].unique()\n",
    "len(df['id'].unique())"
   ]
  },
  {
   "cell_type": "code",
   "execution_count": 8,
   "id": "e05149ef-e36b-47c8-923d-f487fc301de9",
   "metadata": {},
   "outputs": [
    {
     "name": "stdout",
     "output_type": "stream",
     "text": [
      "Mean:              6.9893\n",
      "Median :       7.0000\n",
      "25th percentile : 6.6000\n",
      "75th percentile : 7.5000\n",
      "IQR: 0.9000\n"
     ]
    },
    {
     "data": {
      "image/png": "[encoded data removed]",
      "text/plain": [
       "<Figure size 600x400 with 1 Axes>"
      ]
     },
     "metadata": {},
     "output_type": "display_data"
    }
   ],
   "source": [
    "\n",
    "mean_val = df['target_mood'].mean()\n",
    "median_val = df['target_mood'].median() # \n",
    "q1_val = df['target_mood'].quantile(0.25) \n",
    "q3_val = df['target_mood'].quantile(0.75)\n",
    "iqr_val = q3_val - q1_val\n",
    "\n",
    "print(f\"Mean:              {mean_val:.4f}\")\n",
    "print(f\"Median :       {median_val:.4f}\")\n",
    "print(f\"25th percentile : {q1_val:.4f}\")\n",
    "print(f\"75th percentile : {q3_val:.4f}\")\n",
    "print(f\"IQR: {iqr_val:.4f}\")\n",
    "\n",
    "plt.figure(figsize=(6, 4))\n",
    "sns.boxplot(y=df['target_mood']) \n",
    "plt.show()"
   ]
  },
  {
   "cell_type": "code",
   "execution_count": 9,
   "id": "6683abf2-654d-4fc5-ab30-dfb744d6674d",
   "metadata": {},
   "outputs": [
    {
     "data": {
      "text/plain": [
       "mood_class\n",
       "0      7\n",
       "1    649\n",
       "2    513\n",
       "Name: count, dtype: int64"
      ]
     },
     "execution_count": 9,
     "metadata": {},
     "output_type": "execute_result"
    }
   ],
   "source": [
    "def map_mood_to_class(mood):\n",
    "    if mood <= 4:\n",
    "        return 0  # sad\n",
    "    elif mood <= 7:\n",
    "        return 1  # neutral\n",
    "    else:\n",
    "        return 2  # happy\n",
    "#create new categrocal target value\n",
    "df[\"mood_class\"] = df[\"target_mood\"].apply(map_mood_to_class)\n",
    "\n",
    "df['mood_class'].value_counts(dropna=False).sort_index()"
   ]
  },
  {
   "cell_type": "code",
   "execution_count": 10,
   "id": "23bb7364-2a5d-4e5f-9803-20cf6ba834e6",
   "metadata": {},
   "outputs": [],
   "source": [
    "df = df.drop(columns=['Unnamed: 0','day' '','target_mood'])"
   ]
  },
  {
   "cell_type": "code",
   "execution_count": 11,
   "id": "cb8fbb3b-ba99-40b4-ac75-fab9d5ce41f0",
   "metadata": {},
   "outputs": [
    {
     "name": "stdout",
     "output_type": "stream",
     "text": [
      "Train shape: (918, 21)\n",
      "Validation shape: (111, 21)\n",
      "Test shape: (140, 21)\n"
     ]
    }
   ],
   "source": [
    "\n",
    "train_names = list_names[:21]\n",
    "val_names = list_names[21:24]\n",
    "test_names = list_names[24:27]\n",
    "\n",
    "\n",
    "train_df = df[df['id'].isin(train_names)]\n",
    "val_df = df[df['id'].isin(val_names)]\n",
    "test_df = df[df['id'].isin(test_names)]\n",
    "\n",
    "\n",
    "print(\"Train shape:\", train_df.shape)\n",
    "print(\"Validation shape:\", val_df.shape)\n",
    "print(\"Test shape:\", test_df.shape)"
   ]
  },
  {
   "cell_type": "code",
   "execution_count": 12,
   "id": "087f53e5-bda4-4677-a7ba-8437c23605eb",
   "metadata": {},
   "outputs": [],
   "source": [
    "# Assume df is already defined and has the 'id' column\n",
    "encoder = OneHotEncoder(handle_unknown='ignore')\n",
    "\n",
    "# Fit and transform the 'id' column, and then convert to a dense array.\n",
    "ids_encoded = encoder.fit_transform(df[['id']]).toarray()\n",
    "\n",
    "# Convert the dense array back into a DataFrame with proper column names.\n",
    "ids_encoded_df = pd.DataFrame(ids_encoded, columns=encoder.get_feature_names_out(['id']))\n",
    "\n",
    "# Concatenate the one-hot encoded DataFrame with the original DataFrame.\n",
    "df = pd.concat([df, ids_encoded_df], axis=1)\"\"\""
   ]
  },
  {
   "cell_type": "code",
   "execution_count": 13,
   "id": "eedb3858-bed8-4bcf-9acd-ea52afbc678a",
   "metadata": {},
   "outputs": [],
   "source": [
    "train_df = train_df.drop(columns=['id'])\n",
    "val_df = val_df.drop(columns=['id'])\n",
    "test_df = test_df.drop(columns=['id'])"
   ]
  },
  {
   "cell_type": "code",
   "execution_count": 14,
   "id": "684197cb-1e13-42ac-a785-2ee7caebf6bb",
   "metadata": {},
   "outputs": [],
   "source": [
    "X_train = train_df.drop(['mood_class'], axis=1).values\n",
    "y_train = train_df['mood_class'].values\n",
    "\n",
    "X_val = val_df.drop(['mood_class'], axis=1).values\n",
    "y_val = val_df['mood_class'].values\n",
    "\n",
    "X_test = test_df.drop(['mood_class'], axis=1).values\n",
    "y_test = test_df['mood_class'].values"
   ]
  },
  {
   "cell_type": "code",
   "execution_count": 15,
   "id": "37aed063-0787-42ea-a902-e1f2ade349ee",
   "metadata": {},
   "outputs": [],
   "source": [
    "#one hot encoding for categorical clasess\n",
    "y_train_cat = to_categorical(y_train, num_classes=3)\n",
    "y_val_cat = to_categorical(y_val, num_classes=3)\n",
    "y_test_cat = to_categorical(y_test, num_classes=3)"
   ]
  },
  {
   "cell_type": "code",
   "execution_count": 16,
   "id": "c3c150aa-6e21-414c-b07f-d5213b7c147a",
   "metadata": {},
   "outputs": [
    {
     "data": {
      "text/plain": [
       "\"print(train_df['day'].min())\\nprint(val_df['day'].min())\\nprint(test_df['day'].min())\""
      ]
     },
     "execution_count": 16,
     "metadata": {},
     "output_type": "execute_result"
    }
   ],
   "source": [
    "#validate that time series is correct --> I checked this but now this dindt work because days is remvmove for the model \n",
    "\"\"\"print(train_df['day'].min())\n",
    "print(val_df['day'].min())\n",
    "print(test_df['day'].min())\"\"\""
   ]
  },
  {
   "cell_type": "code",
   "execution_count": 17,
   "id": "24c0555d-3881-4b7b-ae0f-d83cdb41b56c",
   "metadata": {},
   "outputs": [],
   "source": [
    "#time steps --> batch size is hyperparameter \n",
    "time_steps = 86\n",
    "batch_size = 16\n",
    "\n",
    "# use predifined function \n",
    "train_dataset = tf.keras.preprocessing.timeseries_dataset_from_array(\n",
    "    data=X_train,\n",
    "    targets=y_train_cat,\n",
    "    sequence_length=time_steps,\n",
    "    sampling_rate=1,    # sample rate\n",
    "    batch_size=batch_size,\n",
    "    shuffle=False       #  optional \n",
    ")"
   ]
  },
  {
   "cell_type": "code",
   "execution_count": 18,
   "id": "3b13d91a-4f06-4df7-8df7-7f86361911ff",
   "metadata": {},
   "outputs": [
    {
     "data": {
      "text/plain": [
       "<_BatchDataset element_spec=(TensorSpec(shape=(None, None, 19), dtype=tf.float64, name=None), TensorSpec(shape=(None, 3), dtype=tf.float64, name=None))>"
      ]
     },
     "execution_count": 18,
     "metadata": {},
     "output_type": "execute_result"
    }
   ],
   "source": [
    "train_dataset"
   ]
  },
  {
   "cell_type": "code",
   "execution_count": 19,
   "id": "f9d4d1a6-93ed-4367-9bd3-7e010e53ce72",
   "metadata": {},
   "outputs": [],
   "source": [
    "\n",
    "val_dataset = tf.keras.preprocessing.timeseries_dataset_from_array(\n",
    "    data=X_val,\n",
    "    targets=y_val_cat,\n",
    "    sequence_length=time_steps,\n",
    "    sampling_rate=1,\n",
    "    batch_size=batch_size,\n",
    "    shuffle=False       \n",
    ")\n"
   ]
  },
  {
   "cell_type": "code",
   "execution_count": 20,
   "id": "cc7a78df-2340-4ba2-a238-ce5a902165ef",
   "metadata": {},
   "outputs": [],
   "source": [
    "test_dataset = tf.keras.preprocessing.timeseries_dataset_from_array(\n",
    "    data=X_test,\n",
    "    targets=y_test_cat,\n",
    "    sequence_length=time_steps,\n",
    "    sampling_rate=1,\n",
    "    batch_size=batch_size,\n",
    "    shuffle=False\n",
    ")\n"
   ]
  },
  {
   "cell_type": "code",
   "execution_count": 21,
   "id": "cb4a61e3-ff8d-4d8c-a9f5-31c8d9a94d8b",
   "metadata": {},
   "outputs": [
    {
     "name": "stdout",
     "output_type": "stream",
     "text": [
      "Batch data shape: (16, 86, 19)\n"
     ]
    }
   ],
   "source": [
    "# batch_size, time_steps, num_features\n",
    "\n",
    "for batch_data, batch_targets in train_dataset.take(1):\n",
    "    print(\"Batch data shape:\", batch_data.shape)  "
   ]
  },
  {
   "cell_type": "code",
   "execution_count": 22,
   "id": "7de876e6-adb1-4a97-a0b0-dc0233afd2e7",
   "metadata": {},
   "outputs": [
    {
     "name": "stderr",
     "output_type": "stream",
     "text": [
      "C:\\Users\\youpz\\anaconda3\\Lib\\site-packages\\keras\\src\\layers\\rnn\\rnn.py:200: UserWarning: Do not pass an `input_shape`/`input_dim` argument to a layer. When using Sequential models, prefer using an `Input(shape)` object as the first layer in the model instead.\n",
      "  super().__init__(**kwargs)\n"
     ]
    },
    {
     "data": {
      "text/html": [
       "<pre style=\"white-space:pre;overflow-x:auto;line-height:normal;font-family:Menlo,'DejaVu Sans Mono',consolas,'Courier New',monospace\"><span style=\"font-weight: bold\">Model: \"sequential\"</span>\n",
       "</pre>\n"
      ],
      "text/plain": [
       "\u001b[1mModel: \"sequential\"\u001b[0m\n"
      ]
     },
     "metadata": {},
     "output_type": "display_data"
    },
    {
     "data": {
      "text/html": [
       "<pre style=\"white-space:pre;overflow-x:auto;line-height:normal;font-family:Menlo,'DejaVu Sans Mono',consolas,'Courier New',monospace\">┏━━━━━━━━━━━━━━━━━━━━━━━━━━━━━━━━━┳━━━━━━━━━━━━━━━━━━━━━━━━┳━━━━━━━━━━━━━━━┓\n",
       "┃<span style=\"font-weight: bold\"> Layer (type)                    </span>┃<span style=\"font-weight: bold\"> Output Shape           </span>┃<span style=\"font-weight: bold\">       Param # </span>┃\n",
       "┡━━━━━━━━━━━━━━━━━━━━━━━━━━━━━━━━━╇━━━━━━━━━━━━━━━━━━━━━━━━╇━━━━━━━━━━━━━━━┩\n",
       "│ lstm (<span style=\"color: #0087ff; text-decoration-color: #0087ff\">LSTM</span>)                     │ (<span style=\"color: #00d7ff; text-decoration-color: #00d7ff\">None</span>, <span style=\"color: #00af00; text-decoration-color: #00af00\">50</span>)             │        <span style=\"color: #00af00; text-decoration-color: #00af00\">14,000</span> │\n",
       "├─────────────────────────────────┼────────────────────────┼───────────────┤\n",
       "│ dropout (<span style=\"color: #0087ff; text-decoration-color: #0087ff\">Dropout</span>)               │ (<span style=\"color: #00d7ff; text-decoration-color: #00d7ff\">None</span>, <span style=\"color: #00af00; text-decoration-color: #00af00\">50</span>)             │             <span style=\"color: #00af00; text-decoration-color: #00af00\">0</span> │\n",
       "├─────────────────────────────────┼────────────────────────┼───────────────┤\n",
       "│ dense (<span style=\"color: #0087ff; text-decoration-color: #0087ff\">Dense</span>)                   │ (<span style=\"color: #00d7ff; text-decoration-color: #00d7ff\">None</span>, <span style=\"color: #00af00; text-decoration-color: #00af00\">3</span>)              │           <span style=\"color: #00af00; text-decoration-color: #00af00\">153</span> │\n",
       "└─────────────────────────────────┴────────────────────────┴───────────────┘\n",
       "</pre>\n"
      ],
      "text/plain": [
       "┏━━━━━━━━━━━━━━━━━━━━━━━━━━━━━━━━━┳━━━━━━━━━━━━━━━━━━━━━━━━┳━━━━━━━━━━━━━━━┓\n",
       "┃\u001b[1m \u001b[0m\u001b[1mLayer (type)                   \u001b[0m\u001b[1m \u001b[0m┃\u001b[1m \u001b[0m\u001b[1mOutput Shape          \u001b[0m\u001b[1m \u001b[0m┃\u001b[1m \u001b[0m\u001b[1m      Param #\u001b[0m\u001b[1m \u001b[0m┃\n",
       "┡━━━━━━━━━━━━━━━━━━━━━━━━━━━━━━━━━╇━━━━━━━━━━━━━━━━━━━━━━━━╇━━━━━━━━━━━━━━━┩\n",
       "│ lstm (\u001b[38;5;33mLSTM\u001b[0m)                     │ (\u001b[38;5;45mNone\u001b[0m, \u001b[38;5;34m50\u001b[0m)             │        \u001b[38;5;34m14,000\u001b[0m │\n",
       "├─────────────────────────────────┼────────────────────────┼───────────────┤\n",
       "│ dropout (\u001b[38;5;33mDropout\u001b[0m)               │ (\u001b[38;5;45mNone\u001b[0m, \u001b[38;5;34m50\u001b[0m)             │             \u001b[38;5;34m0\u001b[0m │\n",
       "├─────────────────────────────────┼────────────────────────┼───────────────┤\n",
       "│ dense (\u001b[38;5;33mDense\u001b[0m)                   │ (\u001b[38;5;45mNone\u001b[0m, \u001b[38;5;34m3\u001b[0m)              │           \u001b[38;5;34m153\u001b[0m │\n",
       "└─────────────────────────────────┴────────────────────────┴───────────────┘\n"
      ]
     },
     "metadata": {},
     "output_type": "display_data"
    },
    {
     "data": {
      "text/html": [
       "<pre style=\"white-space:pre;overflow-x:auto;line-height:normal;font-family:Menlo,'DejaVu Sans Mono',consolas,'Courier New',monospace\"><span style=\"font-weight: bold\"> Total params: </span><span style=\"color: #00af00; text-decoration-color: #00af00\">14,153</span> (55.29 KB)\n",
       "</pre>\n"
      ],
      "text/plain": [
       "\u001b[1m Total params: \u001b[0m\u001b[38;5;34m14,153\u001b[0m (55.29 KB)\n"
      ]
     },
     "metadata": {},
     "output_type": "display_data"
    },
    {
     "data": {
      "text/html": [
       "<pre style=\"white-space:pre;overflow-x:auto;line-height:normal;font-family:Menlo,'DejaVu Sans Mono',consolas,'Courier New',monospace\"><span style=\"font-weight: bold\"> Trainable params: </span><span style=\"color: #00af00; text-decoration-color: #00af00\">14,153</span> (55.29 KB)\n",
       "</pre>\n"
      ],
      "text/plain": [
       "\u001b[1m Trainable params: \u001b[0m\u001b[38;5;34m14,153\u001b[0m (55.29 KB)\n"
      ]
     },
     "metadata": {},
     "output_type": "display_data"
    },
    {
     "data": {
      "text/html": [
       "<pre style=\"white-space:pre;overflow-x:auto;line-height:normal;font-family:Menlo,'DejaVu Sans Mono',consolas,'Courier New',monospace\"><span style=\"font-weight: bold\"> Non-trainable params: </span><span style=\"color: #00af00; text-decoration-color: #00af00\">0</span> (0.00 B)\n",
       "</pre>\n"
      ],
      "text/plain": [
       "\u001b[1m Non-trainable params: \u001b[0m\u001b[38;5;34m0\u001b[0m (0.00 B)\n"
      ]
     },
     "metadata": {},
     "output_type": "display_data"
    }
   ],
   "source": [
    "# define model\n",
    "model = Sequential()\n",
    "\n",
    "#shape is based on number of unique timestamps (86) and number of features (19)\n",
    "model.add(LSTM(units=50, input_shape=(86, 19)))\n",
    "model.add(Dropout(0.2))\n",
    "model.add(Dense(3, activation='softmax')) \n",
    "\n",
    "#can change the categorical metric from accuracy to some\n",
    "model.compile(optimizer='adam', loss='categorical_crossentropy', metrics=['accuracy'])\n",
    "model.summary()"
   ]
  },
  {
   "cell_type": "code",
   "execution_count": 23,
   "id": "48b8bd86-9235-4d48-a31c-63545d8a485b",
   "metadata": {},
   "outputs": [
    {
     "name": "stdout",
     "output_type": "stream",
     "text": [
      "Epoch 1/20\n",
      "\u001b[1m53/53\u001b[0m \u001b[32m━━━━━━━━━━━━━━━━━━━━\u001b[0m\u001b[37m\u001b[0m \u001b[1m4s\u001b[0m 29ms/step - accuracy: 0.3042 - loss: 1.2786 - val_accuracy: 0.3462 - val_loss: 0.9328\n",
      "Epoch 2/20\n",
      "\u001b[1m53/53\u001b[0m \u001b[32m━━━━━━━━━━━━━━━━━━━━\u001b[0m\u001b[37m\u001b[0m \u001b[1m1s\u001b[0m 21ms/step - accuracy: 0.5076 - loss: 0.8899 - val_accuracy: 0.4615 - val_loss: 0.8055\n",
      "Epoch 3/20\n",
      "\u001b[1m53/53\u001b[0m \u001b[32m━━━━━━━━━━━━━━━━━━━━\u001b[0m\u001b[37m\u001b[0m \u001b[1m1s\u001b[0m 23ms/step - accuracy: 0.5573 - loss: 0.7851 - val_accuracy: 0.5385 - val_loss: 0.7274\n",
      "Epoch 4/20\n",
      "\u001b[1m53/53\u001b[0m \u001b[32m━━━━━━━━━━━━━━━━━━━━\u001b[0m\u001b[37m\u001b[0m \u001b[1m1s\u001b[0m 23ms/step - accuracy: 0.5627 - loss: 0.7781 - val_accuracy: 0.6154 - val_loss: 0.7095\n",
      "Epoch 5/20\n",
      "\u001b[1m53/53\u001b[0m \u001b[32m━━━━━━━━━━━━━━━━━━━━\u001b[0m\u001b[37m\u001b[0m \u001b[1m1s\u001b[0m 22ms/step - accuracy: 0.5879 - loss: 0.7345 - val_accuracy: 0.5385 - val_loss: 0.7073\n",
      "Epoch 6/20\n",
      "\u001b[1m53/53\u001b[0m \u001b[32m━━━━━━━━━━━━━━━━━━━━\u001b[0m\u001b[37m\u001b[0m \u001b[1m1s\u001b[0m 23ms/step - accuracy: 0.5513 - loss: 0.7559 - val_accuracy: 0.6154 - val_loss: 0.7015\n",
      "Epoch 7/20\n",
      "\u001b[1m53/53\u001b[0m \u001b[32m━━━━━━━━━━━━━━━━━━━━\u001b[0m\u001b[37m\u001b[0m \u001b[1m1s\u001b[0m 24ms/step - accuracy: 0.5513 - loss: 0.7504 - val_accuracy: 0.4615 - val_loss: 0.7062\n",
      "Epoch 8/20\n",
      "\u001b[1m53/53\u001b[0m \u001b[32m━━━━━━━━━━━━━━━━━━━━\u001b[0m\u001b[37m\u001b[0m \u001b[1m1s\u001b[0m 23ms/step - accuracy: 0.5583 - loss: 0.7385 - val_accuracy: 0.6154 - val_loss: 0.6685\n",
      "Epoch 9/20\n",
      "\u001b[1m53/53\u001b[0m \u001b[32m━━━━━━━━━━━━━━━━━━━━\u001b[0m\u001b[37m\u001b[0m \u001b[1m1s\u001b[0m 23ms/step - accuracy: 0.5665 - loss: 0.7411 - val_accuracy: 0.6923 - val_loss: 0.6155\n",
      "Epoch 10/20\n",
      "\u001b[1m53/53\u001b[0m \u001b[32m━━━━━━━━━━━━━━━━━━━━\u001b[0m\u001b[37m\u001b[0m \u001b[1m1s\u001b[0m 22ms/step - accuracy: 0.5663 - loss: 0.7518 - val_accuracy: 0.6538 - val_loss: 0.6238\n",
      "Epoch 11/20\n",
      "\u001b[1m53/53\u001b[0m \u001b[32m━━━━━━━━━━━━━━━━━━━━\u001b[0m\u001b[37m\u001b[0m \u001b[1m1s\u001b[0m 22ms/step - accuracy: 0.5497 - loss: 0.7299 - val_accuracy: 0.6154 - val_loss: 0.6968\n",
      "Epoch 12/20\n",
      "\u001b[1m53/53\u001b[0m \u001b[32m━━━━━━━━━━━━━━━━━━━━\u001b[0m\u001b[37m\u001b[0m \u001b[1m1s\u001b[0m 23ms/step - accuracy: 0.5929 - loss: 0.7127 - val_accuracy: 0.6154 - val_loss: 0.6852\n",
      "Epoch 13/20\n",
      "\u001b[1m53/53\u001b[0m \u001b[32m━━━━━━━━━━━━━━━━━━━━\u001b[0m\u001b[37m\u001b[0m \u001b[1m1s\u001b[0m 23ms/step - accuracy: 0.5650 - loss: 0.7299 - val_accuracy: 0.5769 - val_loss: 0.6815\n",
      "Epoch 14/20\n",
      "\u001b[1m53/53\u001b[0m \u001b[32m━━━━━━━━━━━━━━━━━━━━\u001b[0m\u001b[37m\u001b[0m \u001b[1m1s\u001b[0m 24ms/step - accuracy: 0.5847 - loss: 0.7120 - val_accuracy: 0.6538 - val_loss: 0.6716\n",
      "Epoch 15/20\n",
      "\u001b[1m53/53\u001b[0m \u001b[32m━━━━━━━━━━━━━━━━━━━━\u001b[0m\u001b[37m\u001b[0m \u001b[1m1s\u001b[0m 23ms/step - accuracy: 0.5785 - loss: 0.7407 - val_accuracy: 0.6154 - val_loss: 0.6585\n",
      "Epoch 16/20\n",
      "\u001b[1m53/53\u001b[0m \u001b[32m━━━━━━━━━━━━━━━━━━━━\u001b[0m\u001b[37m\u001b[0m \u001b[1m1s\u001b[0m 23ms/step - accuracy: 0.5488 - loss: 0.7355 - val_accuracy: 0.6538 - val_loss: 0.6414\n",
      "Epoch 17/20\n",
      "\u001b[1m53/53\u001b[0m \u001b[32m━━━━━━━━━━━━━━━━━━━━\u001b[0m\u001b[37m\u001b[0m \u001b[1m1s\u001b[0m 24ms/step - accuracy: 0.5421 - loss: 0.7266 - val_accuracy: 0.6923 - val_loss: 0.6546\n",
      "Epoch 18/20\n",
      "\u001b[1m53/53\u001b[0m \u001b[32m━━━━━━━━━━━━━━━━━━━━\u001b[0m\u001b[37m\u001b[0m \u001b[1m1s\u001b[0m 24ms/step - accuracy: 0.5596 - loss: 0.7184 - val_accuracy: 0.6154 - val_loss: 0.6458\n",
      "Epoch 19/20\n",
      "\u001b[1m53/53\u001b[0m \u001b[32m━━━━━━━━━━━━━━━━━━━━\u001b[0m\u001b[37m\u001b[0m \u001b[1m1s\u001b[0m 24ms/step - accuracy: 0.5941 - loss: 0.7080 - val_accuracy: 0.6538 - val_loss: 0.6654\n",
      "Epoch 20/20\n",
      "\u001b[1m53/53\u001b[0m \u001b[32m━━━━━━━━━━━━━━━━━━━━\u001b[0m\u001b[37m\u001b[0m \u001b[1m1s\u001b[0m 24ms/step - accuracy: 0.5894 - loss: 0.7019 - val_accuracy: 0.6154 - val_loss: 0.6797\n"
     ]
    }
   ],
   "source": [
    "#train the model\n",
    "history = model.fit(train_dataset, epochs=20, batch_size = batch_size, validation_data=val_dataset)"
   ]
  },
  {
   "cell_type": "code",
   "execution_count": 24,
   "id": "ff6b5343-f69c-4e8c-a217-b5f6e2c5cccf",
   "metadata": {},
   "outputs": [
    {
     "name": "stdout",
     "output_type": "stream",
     "text": [
      "\u001b[1m4/4\u001b[0m \u001b[32m━━━━━━━━━━━━━━━━━━━━\u001b[0m\u001b[37m\u001b[0m \u001b[1m1s\u001b[0m 100ms/step\n"
     ]
    }
   ],
   "source": [
    "# get true lables\n",
    "y_pred_probs = model.predict(test_dataset)\n",
    "y_pred = np.argmax(y_pred_probs, axis=1)\n",
    "\n",
    "#change the y_true to match y_pred\n",
    "y_true = y_test \n",
    "y_true = y_test[time_steps - 1:]"
   ]
  },
  {
   "cell_type": "code",
   "execution_count": 25,
   "id": "d37637cf-1c95-4154-bc00-eba37365dac0",
   "metadata": {},
   "outputs": [
    {
     "name": "stdout",
     "output_type": "stream",
     "text": [
      "              precision    recall  f1-score   support\n",
      "\n",
      "     Sad (0)       0.00      0.00      0.00         0\n",
      " Neutral (1)       0.67      0.86      0.75        37\n",
      "   Happy (2)       0.29      0.11      0.16        18\n",
      "\n",
      "    accuracy                           0.62        55\n",
      "   macro avg       0.32      0.33      0.30        55\n",
      "weighted avg       0.54      0.62      0.56        55\n",
      "\n"
     ]
    },
    {
     "data": {
      "text/plain": [
       "<Figure size 600x500 with 0 Axes>"
      ]
     },
     "metadata": {},
     "output_type": "display_data"
    },
    {
     "data": {
      "image/png": "[encoded data removed]",
      "text/plain": [
       "<Figure size 640x480 with 2 Axes>"
      ]
     },
     "metadata": {},
     "output_type": "display_data"
    }
   ],
   "source": [
    "expected_labels = [0, 1, 2]\n",
    "target_names = ['Sad (0)', 'Neutral (1)', 'Happy (2)']\n",
    "\n",
    "# classification\n",
    "print(classification_report(y_true, y_pred,\n",
    "                          labels=expected_labels,\n",
    "                          target_names=target_names,\n",
    "                          zero_division=0))\n",
    "\n",
    "# confusion matrix\n",
    "cm = confusion_matrix(y_true, y_pred, labels=expected_labels)\n",
    "disp = ConfusionMatrixDisplay(confusion_matrix=cm, display_labels=target_names)\n",
    "\n",
    "plt.figure(figsize=(6, 5))\n",
    "disp.plot(cmap='Blues', values_format='d')\n",
    "plt.title(\"Confusion matrix\")\n",
    "plt.show()"
   ]
  },
  {
   "cell_type": "code",
   "execution_count": 26,
   "id": "f3514f84-bbb7-4de8-b14e-2acb6cde474f",
   "metadata": {},
   "outputs": [
    {
     "name": "stdout",
     "output_type": "stream",
     "text": [
      "\u001b[1m4/4\u001b[0m \u001b[32m━━━━━━━━━━━━━━━━━━━━\u001b[0m\u001b[37m\u001b[0m \u001b[1m0s\u001b[0m 17ms/step - accuracy: 0.4027 - loss: 0.7465\n",
      "Test Loss: 0.7418\n",
      "Test Accuracy: 0.4182\n"
     ]
    }
   ],
   "source": [
    "#evaluating of the code\n",
    "loss, acc = model.evaluate(test_dataset)\n",
    "print(f\"Test Loss: {loss:.4f}\")\n",
    "print(f\"Test Accuracy: {acc:.4f}\")"
   ]
  },
  {
   "cell_type": "code",
   "execution_count": null,
   "id": "556611d9-d878-4ea7-8efb-6fa9e9e7235c",
   "metadata": {},
   "outputs": [],
   "source": []
  }
 ],
 "metadata": {
  "kernelspec": {
   "display_name": "Python 3 (ipykernel)",
   "language": "python",
   "name": "python3"
  },
  "language_info": {
   "codemirror_mode": {
    "name": "ipython",
    "version": 3
   },
   "file_extension": ".py",
   "mimetype": "text/x-python",
   "name": "python",
   "nbconvert_exporter": "python",
   "pygments_lexer": "ipython3",
   "version": "3.12.4"
  }
 },
 "nbformat": 4,
 "nbformat_minor": 5
}
