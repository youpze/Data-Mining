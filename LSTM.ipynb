{
 "cells": [
  {
   "cell_type": "code",
   "execution_count": 1,
   "id": "6f7216e6-00a4-4c20-929b-b64f545202de",
   "metadata": {},
   "outputs": [],
   "source": [
    "import pandas as pd\n",
    "from sklearn.model_selection import TimeSeriesSplit, train_test_split\n",
    "import numpy as np\n",
    "import tensorflow as tf\n",
    "from tensorflow.keras.models import Sequential\n",
    "from tensorflow.keras.layers import Dense, LSTM, Dropout\n",
    "from sklearn.metrics import mean_squared_error, mean_absolute_error\n",
    "from tensorflow.keras.utils import to_categorical\n",
    "import matplotlib.pyplot as plt\n",
    "from sklearn.metrics import confusion_matrix, classification_report, ConfusionMatrixDisplay\n",
    "import seaborn as sns\n",
    "from sklearn.preprocessing import OneHotEncoder\n",
    "from tensorflow.keras.preprocessing.sequence import pad_sequences\n",
    "import keras_tuner as kt\n",
    "import random\n",
    "from sklearn.utils.class_weight import compute_class_weight\n",
    "from collections import Counter"
   ]
  },
  {
   "cell_type": "code",
   "execution_count": 2,
   "id": "5dc377ff-9993-4543-a28e-b7b87c178ae2",
   "metadata": {},
   "outputs": [],
   "source": [
    "# Set the random seed for reproducibility\n",
    "seed_value = 22\n",
    "random.seed(seed_value)\n",
    "np.random.seed(seed_value)\n",
    "tf.random.set_seed(seed_value)"
   ]
  },
  {
   "cell_type": "code",
   "execution_count": 3,
   "id": "7733e719-dccb-46a6-93c1-2f617171e679",
   "metadata": {},
   "outputs": [],
   "source": [
    "df=pd.read_csv(\"dataset.csv\")"
   ]
  },
  {
   "cell_type": "code",
   "execution_count": 4,
   "id": "e73f74a9-b38f-40b4-bc4c-c16eea097216",
   "metadata": {},
   "outputs": [
    {
     "data": {
      "text/plain": [
       "Index(['Unnamed: 0', 'activity', 'appCat.builtin', 'appCat.communication',\n",
       "       'appCat.entertainment', 'appCat.finance', 'appCat.game',\n",
       "       'appCat.office', 'appCat.other', 'appCat.social', 'appCat.travel',\n",
       "       'appCat.unknown', 'appCat.utilities', 'appCat.weather', 'call',\n",
       "       'circumplex.arousal', 'circumplex.valence', 'mood', 'screen', 'sms',\n",
       "       'id', 'day', 'target_mood'],\n",
       "      dtype='object')"
      ]
     },
     "execution_count": 4,
     "metadata": {},
     "output_type": "execute_result"
    }
   ],
   "source": [
    "df.columns"
   ]
  },
  {
   "cell_type": "code",
   "execution_count": 5,
   "id": "9f6180f9-afc3-46a7-adf2-d9eea728f1bf",
   "metadata": {},
   "outputs": [],
   "source": [
    "#sort by data \n",
    "df['day'] = pd.to_datetime(df['day'])\n",
    "df = df.sort_values(by='day')"
   ]
  },
  {
   "cell_type": "code",
   "execution_count": 6,
   "id": "3a85b86f-c255-4935-b457-a65dcdd61869",
   "metadata": {},
   "outputs": [
    {
     "data": {
      "text/plain": [
       "541   2014-03-13\n",
       "268   2014-03-13\n",
       "396   2014-03-13\n",
       "127   2014-03-14\n",
       "489   2014-03-14\n",
       "         ...    \n",
       "809   2014-06-03\n",
       "810   2014-06-04\n",
       "811   2014-06-05\n",
       "812   2014-06-06\n",
       "813   2014-06-07\n",
       "Name: day, Length: 1169, dtype: datetime64[ns]"
      ]
     },
     "execution_count": 6,
     "metadata": {},
     "output_type": "execute_result"
    }
   ],
   "source": [
    "df['day']"
   ]
  },
  {
   "cell_type": "code",
   "execution_count": 7,
   "id": "23c5e878-c804-4ec3-859f-5a425e543976",
   "metadata": {},
   "outputs": [
    {
     "name": "stdout",
     "output_type": "stream",
     "text": [
      "id\n",
      "AS14.01    44\n",
      "AS14.02    37\n",
      "AS14.03    46\n",
      "AS14.05    52\n",
      "AS14.06    43\n",
      "AS14.07    46\n",
      "AS14.08    53\n",
      "AS14.09    36\n",
      "AS14.12    39\n",
      "AS14.13    51\n",
      "AS14.14    42\n",
      "AS14.15    52\n",
      "AS14.16    52\n",
      "AS14.17    44\n",
      "AS14.19    45\n",
      "AS14.20    40\n",
      "AS14.23    38\n",
      "AS14.24    54\n",
      "AS14.25    29\n",
      "AS14.26    45\n",
      "AS14.27    40\n",
      "AS14.28    37\n",
      "AS14.29    40\n",
      "AS14.30    45\n",
      "AS14.31    42\n",
      "AS14.32    36\n",
      "AS14.33    41\n",
      "Name: day, dtype: int64\n"
     ]
    }
   ],
   "source": [
    "#verify how many days are there per person\n",
    "day_counts = df.groupby('id')['day'].nunique()\n",
    "print(day_counts)"
   ]
  },
  {
   "cell_type": "code",
   "execution_count": 8,
   "id": "c6234014-6c25-48c1-bfb2-990d0b55490e",
   "metadata": {},
   "outputs": [
    {
     "data": {
      "text/plain": [
       "86"
      ]
     },
     "execution_count": 8,
     "metadata": {},
     "output_type": "execute_result"
    }
   ],
   "source": [
    "len(df['day'].unique())"
   ]
  },
  {
   "cell_type": "code",
   "execution_count": 9,
   "id": "2e7e8fe9-75f5-4032-be67-726f53d39847",
   "metadata": {},
   "outputs": [
    {
     "data": {
      "text/plain": [
       "27"
      ]
     },
     "execution_count": 9,
     "metadata": {},
     "output_type": "execute_result"
    }
   ],
   "source": [
    "list_names = df['id'].unique()\n",
    "len(df['id'].unique())"
   ]
  },
  {
   "cell_type": "code",
   "execution_count": 10,
   "id": "e05149ef-e36b-47c8-923d-f487fc301de9",
   "metadata": {},
   "outputs": [
    {
     "name": "stdout",
     "output_type": "stream",
     "text": [
      "Mean:              6.9893\n",
      "Median :       7.0000\n",
      "25th percentile : 6.6000\n",
      "75th percentile : 7.5000\n",
      "IQR: 0.9000\n"
     ]
    },
    {
     "data": {
      "image/png": "[encoded data removed]",
      "text/plain": [
       "<Figure size 600x400 with 1 Axes>"
      ]
     },
     "metadata": {},
     "output_type": "display_data"
    }
   ],
   "source": [
    "\n",
    "mean_val = df['target_mood'].mean()\n",
    "median_val = df['target_mood'].median() # \n",
    "q1_val = df['target_mood'].quantile(0.25) \n",
    "q3_val = df['target_mood'].quantile(0.75)\n",
    "iqr_val = q3_val - q1_val\n",
    "\n",
    "print(f\"Mean:              {mean_val:.4f}\")\n",
    "print(f\"Median :       {median_val:.4f}\")\n",
    "print(f\"25th percentile : {q1_val:.4f}\")\n",
    "print(f\"75th percentile : {q3_val:.4f}\")\n",
    "print(f\"IQR: {iqr_val:.4f}\")\n",
    "\n",
    "plt.figure(figsize=(6, 4))\n",
    "sns.boxplot(y=df['target_mood']) \n",
    "plt.show()"
   ]
  },
  {
   "cell_type": "code",
   "execution_count": 11,
   "id": "6683abf2-654d-4fc5-ab30-dfb744d6674d",
   "metadata": {},
   "outputs": [
    {
     "data": {
      "text/plain": [
       "mood_class\n",
       "0      7\n",
       "1    649\n",
       "2    513\n",
       "Name: count, dtype: int64"
      ]
     },
     "execution_count": 11,
     "metadata": {},
     "output_type": "execute_result"
    }
   ],
   "source": [
    "def map_mood_to_class(mood):\n",
    "    if mood <= 4:\n",
    "        return 0  # sad\n",
    "    elif mood <= 7:\n",
    "        return 1  # neutral\n",
    "    else:\n",
    "        return 2  # happy\n",
    "        \n",
    "#create new categrocal target value\n",
    "df[\"mood_class\"] = df[\"target_mood\"].apply(map_mood_to_class)\n",
    "\n",
    "df['mood_class'].value_counts(dropna=False).sort_index()"
   ]
  },
  {
   "cell_type": "code",
   "execution_count": 12,
   "id": "0d915da7-f3b8-4891-b18e-1c2d506fc079",
   "metadata": {},
   "outputs": [],
   "source": [
    "list_names = df['id'].unique()\n",
    "train_names = list_names[:21]\n",
    "val_names = list_names[21:24]\n",
    "test_names = list_names[24:27]\n"
   ]
  },
  {
   "cell_type": "code",
   "execution_count": 13,
   "id": "cb8fbb3b-ba99-40b4-ac75-fab9d5ce41f0",
   "metadata": {},
   "outputs": [],
   "source": [
    "window_size = 4 # parameter - Defines the size of the sliding window (number of consecutive days) for creating sequences.\n",
    "X_all = [] # Initialize an empty list to store all feature sequences.\n",
    "y_all = [] # Initialize an empty list to store all target mood classes.\n",
    "subject_seq_ids = [] # Initialize an empty list to store the subject ID for each sequence.\n",
    "\n",
    "for subj in df['id'].unique(): # Iterate through each unique subject ID in the 'id' column of the DataFrame.\n",
    "    df_subj = df[df['id'] == subj].sort_values('day') # Filter the DataFrame to get data for the current subject and sort it by day.\n",
    "    features = df_subj.drop(columns=['id', 'day', 'target_mood', 'Unnamed: 0', 'mood_class']).to_numpy() # Extract feature columns (excluding identifiers, target, and mood_class) and convert to a NumPy array.\n",
    "    targets = df_subj['mood_class'].to_numpy() # Extract the 'mood_class' column (target variable) and convert to a NumPy array.\n",
    "\n",
    "    for i in range(len(df_subj) - window_size): # Iterate through the data points of the current subject to create sequences.\n",
    "        X_all.append(features[i:i+window_size]) # Append a sequence of 'window_size' consecutive feature vectors to X_all.\n",
    "        y_all.append(targets[i+window_size]) # Append the target mood class (the day after the window) to y_all.\n",
    "        subject_seq_ids.append(subj)  # track who this sample belongs to - Append the subject ID for the current sequence.\n",
    "\n",
    "X_all = np.array(X_all) # Convert the list of feature sequences to a NumPy array.\n",
    "y_all_cat = to_categorical(y_all, num_classes=3) # Convert the list of target labels to one-hot encoded categorical format (3 classes).\n",
    "subject_seq_ids = np.array(subject_seq_ids) # Convert the list of subject IDs to a NumPy array.\n"
   ]
  },
  {
   "cell_type": "code",
   "execution_count": 14,
   "id": "c4866877-a9a7-4543-9148-600a0de97b58",
   "metadata": {},
   "outputs": [
    {
     "name": "stdout",
     "output_type": "stream",
     "text": [
      "Train shape: (834, 4, 19)\n",
      "Val shape: (99, 4, 19)\n",
      "Test shape: (128, 4, 19)\n"
     ]
    }
   ],
   "source": [
    "# Convert train/val/test subject names to sets for faster lookup\n",
    "train_ids = set(train_names)\n",
    "val_ids = set(val_names)\n",
    "test_ids = set(test_names)\n",
    "\n",
    "# Create boolean masks\n",
    "train_mask = np.isin(subject_seq_ids, list(train_ids))\n",
    "val_mask = np.isin(subject_seq_ids, list(val_ids))\n",
    "test_mask = np.isin(subject_seq_ids, list(test_ids))\n",
    "\n",
    "# Split the data\n",
    "X_train = X_all[train_mask]\n",
    "y_train_cat = y_all_cat[train_mask]\n",
    "\n",
    "X_val = X_all[val_mask]\n",
    "y_val_cat = y_all_cat[val_mask]\n",
    "\n",
    "X_test = X_all[test_mask]\n",
    "y_test_cat = y_all_cat[test_mask]\n",
    "\n",
    "print(\"Train shape:\", X_train.shape)\n",
    "print(\"Val shape:\", X_val.shape)\n",
    "print(\"Test shape:\", X_test.shape)\n",
    "\n",
    "num_features = X_train.shape[2] "
   ]
  },
  {
   "cell_type": "code",
   "execution_count": 15,
   "id": "f74eff45-2f3e-4813-b0d3-b500b29a4f4d",
   "metadata": {},
   "outputs": [],
   "source": [
    "y_train_labels = np.argmax(y_train_cat, axis=1)\n",
    "class_weights = compute_class_weight('balanced', classes=np.unique(y_train_labels), y=y_train_labels)\n",
    "class_weight_dict = {i: weight for i, weight in enumerate(class_weights)}"
   ]
  },
  {
   "cell_type": "code",
   "execution_count": 16,
   "id": "9642cc26-28f0-43b4-b879-150074671b03",
   "metadata": {},
   "outputs": [],
   "source": [
    "def build_model(hp):\n",
    "    model = Sequential()\n",
    "    model.add(LSTM(units=hp.Int('units_lstm1', min_value=32, max_value=256, step=32),\n",
    "                   return_sequences=True,\n",
    "                   input_shape=(window_size, num_features)))\n",
    "    model.add(Dropout(hp.Float('dropout_rate1', min_value=0.1, max_value=0.5, step=0.1)))\n",
    "    model.add(LSTM(units=hp.Int('units_lstm2', min_value=16, max_value=128, step=16)))\n",
    "    model.add(Dense(units=hp.Int('units_dense', min_value=8, max_value=64, step=8),\n",
    "                    activation='relu'))\n",
    "    model.add(Dropout(hp.Float('dropout_rate2', min_value=0.05, max_value=0.4, step=0.05)))\n",
    "    model.add(Dense(3, activation='softmax'))\n",
    "    optimizer = hp.Choice('optimizer', values=['adam', 'rmsprop', 'sgd', 'nadam'])\n",
    "    model.compile(optimizer=optimizer,\n",
    "                  loss='categorical_crossentropy',\n",
    "                  metrics=['accuracy'])\n",
    "    return model\n"
   ]
  },
  {
   "cell_type": "code",
   "execution_count": 17,
   "id": "1840c984-1dcf-498b-b3ec-7ae3ffdc0f74",
   "metadata": {},
   "outputs": [
    {
     "name": "stdout",
     "output_type": "stream",
     "text": [
      "Reloading Tuner from my_dir\\nn_tuning\\tuner0.json\n"
     ]
    }
   ],
   "source": [
    "tuner = kt.RandomSearch(\n",
    "    build_model,\n",
    "    objective='val_accuracy',\n",
    "    max_trials=50,\n",
    "    directory=\"my_dir\",\n",
    "    project_name=\"nn_tuning\" \n",
    "    #,overwrite=True\n",
    ")\n",
    "\n",
    "stop_early = tf.keras.callbacks.EarlyStopping(monitor='val_loss', patience=3)\n",
    "################################################################################### HYPERPARAMTER TUNING ONLY FOR THE DEFAULT TRAININSDATA\n",
    "tuner.search(\n",
    "    X_train, y_train_cat,\n",
    "    epochs=100,\n",
    "    validation_data=(X_val, y_val_cat),\n",
    "    callbacks=[stop_early],\n",
    "    verbose=1 \n",
    "    #,class_weight= class_weight_dict\n",
    "\n",
    ")"
   ]
  },
  {
   "cell_type": "code",
   "execution_count": 18,
   "id": "d9254fd2-9371-4a6b-9000-c540c7056ff0",
   "metadata": {},
   "outputs": [
    {
     "name": "stdout",
     "output_type": "stream",
     "text": [
      "Best Hyperparameters Dictionary: {'units_lstm1': 32, 'dropout_rate1': 0.30000000000000004, 'units_lstm2': 32, 'units_dense': 8, 'dropout_rate2': 0.2, 'optimizer': 'adam'}\n"
     ]
    }
   ],
   "source": [
    "best_hps = tuner.get_best_hyperparameters(num_trials=1)[0]\n",
    "print(\"Best Hyperparameters Dictionary:\", best_hps.values)\n"
   ]
  },
  {
   "cell_type": "code",
   "execution_count": 19,
   "id": "48b8bd86-9235-4d48-a31c-63545d8a485b",
   "metadata": {},
   "outputs": [
    {
     "name": "stdout",
     "output_type": "stream",
     "text": [
      "Epoch 1/40\n"
     ]
    },
    {
     "name": "stderr",
     "output_type": "stream",
     "text": [
      "C:\\Users\\youpz\\anaconda3\\Lib\\site-packages\\keras\\src\\layers\\rnn\\rnn.py:200: UserWarning: Do not pass an `input_shape`/`input_dim` argument to a layer. When using Sequential models, prefer using an `Input(shape)` object as the first layer in the model instead.\n",
      "  super().__init__(**kwargs)\n"
     ]
    },
    {
     "name": "stdout",
     "output_type": "stream",
     "text": [
      "\u001b[1m27/27\u001b[0m \u001b[32m━━━━━━━━━━━━━━━━━━━━\u001b[0m\u001b[37m\u001b[0m \u001b[1m3s\u001b[0m 18ms/step - accuracy: 0.4927 - loss: 1.0864 - val_accuracy: 0.5960 - val_loss: 0.9914\n",
      "Epoch 2/40\n",
      "\u001b[1m27/27\u001b[0m \u001b[32m━━━━━━━━━━━━━━━━━━━━\u001b[0m\u001b[37m\u001b[0m \u001b[1m0s\u001b[0m 5ms/step - accuracy: 0.5427 - loss: 0.9895 - val_accuracy: 0.5960 - val_loss: 0.8836\n",
      "Epoch 3/40\n",
      "\u001b[1m27/27\u001b[0m \u001b[32m━━━━━━━━━━━━━━━━━━━━\u001b[0m\u001b[37m\u001b[0m \u001b[1m0s\u001b[0m 5ms/step - accuracy: 0.5415 - loss: 0.9112 - val_accuracy: 0.5960 - val_loss: 0.7925\n",
      "Epoch 4/40\n",
      "\u001b[1m27/27\u001b[0m \u001b[32m━━━━━━━━━━━━━━━━━━━━\u001b[0m\u001b[37m\u001b[0m \u001b[1m0s\u001b[0m 5ms/step - accuracy: 0.5604 - loss: 0.8564 - val_accuracy: 0.5960 - val_loss: 0.7399\n",
      "Epoch 5/40\n",
      "\u001b[1m27/27\u001b[0m \u001b[32m━━━━━━━━━━━━━━━━━━━━\u001b[0m\u001b[37m\u001b[0m \u001b[1m0s\u001b[0m 5ms/step - accuracy: 0.5427 - loss: 0.8259 - val_accuracy: 0.5960 - val_loss: 0.7156\n",
      "Epoch 6/40\n",
      "\u001b[1m27/27\u001b[0m \u001b[32m━━━━━━━━━━━━━━━━━━━━\u001b[0m\u001b[37m\u001b[0m \u001b[1m0s\u001b[0m 5ms/step - accuracy: 0.5372 - loss: 0.8128 - val_accuracy: 0.5960 - val_loss: 0.6982\n",
      "Epoch 7/40\n",
      "\u001b[1m27/27\u001b[0m \u001b[32m━━━━━━━━━━━━━━━━━━━━\u001b[0m\u001b[37m\u001b[0m \u001b[1m0s\u001b[0m 5ms/step - accuracy: 0.5563 - loss: 0.7981 - val_accuracy: 0.5859 - val_loss: 0.6919\n",
      "Epoch 8/40\n",
      "\u001b[1m27/27\u001b[0m \u001b[32m━━━━━━━━━━━━━━━━━━━━\u001b[0m\u001b[37m\u001b[0m \u001b[1m0s\u001b[0m 5ms/step - accuracy: 0.5838 - loss: 0.7698 - val_accuracy: 0.5152 - val_loss: 0.6906\n",
      "Epoch 9/40\n",
      "\u001b[1m27/27\u001b[0m \u001b[32m━━━━━━━━━━━━━━━━━━━━\u001b[0m\u001b[37m\u001b[0m \u001b[1m0s\u001b[0m 5ms/step - accuracy: 0.5889 - loss: 0.7689 - val_accuracy: 0.5455 - val_loss: 0.6978\n",
      "Epoch 10/40\n",
      "\u001b[1m27/27\u001b[0m \u001b[32m━━━━━━━━━━━━━━━━━━━━\u001b[0m\u001b[37m\u001b[0m \u001b[1m0s\u001b[0m 4ms/step - accuracy: 0.5920 - loss: 0.7504 - val_accuracy: 0.4444 - val_loss: 0.7042\n",
      "Epoch 11/40\n",
      "\u001b[1m27/27\u001b[0m \u001b[32m━━━━━━━━━━━━━━━━━━━━\u001b[0m\u001b[37m\u001b[0m \u001b[1m0s\u001b[0m 5ms/step - accuracy: 0.5501 - loss: 0.7736 - val_accuracy: 0.5253 - val_loss: 0.7101\n",
      "Epoch 12/40\n",
      "\u001b[1m27/27\u001b[0m \u001b[32m━━━━━━━━━━━━━━━━━━━━\u001b[0m\u001b[37m\u001b[0m \u001b[1m0s\u001b[0m 4ms/step - accuracy: 0.5812 - loss: 0.7672 - val_accuracy: 0.5758 - val_loss: 0.7151\n",
      "Epoch 13/40\n",
      "\u001b[1m27/27\u001b[0m \u001b[32m━━━━━━━━━━━━━━━━━━━━\u001b[0m\u001b[37m\u001b[0m \u001b[1m0s\u001b[0m 5ms/step - accuracy: 0.5656 - loss: 0.7619 - val_accuracy: 0.5758 - val_loss: 0.6932\n",
      "Epoch 14/40\n",
      "\u001b[1m27/27\u001b[0m \u001b[32m━━━━━━━━━━━━━━━━━━━━\u001b[0m\u001b[37m\u001b[0m \u001b[1m0s\u001b[0m 5ms/step - accuracy: 0.6137 - loss: 0.7371 - val_accuracy: 0.6667 - val_loss: 0.6663\n",
      "Epoch 15/40\n",
      "\u001b[1m27/27\u001b[0m \u001b[32m━━━━━━━━━━━━━━━━━━━━\u001b[0m\u001b[37m\u001b[0m \u001b[1m0s\u001b[0m 5ms/step - accuracy: 0.5790 - loss: 0.7426 - val_accuracy: 0.5859 - val_loss: 0.6735\n",
      "Epoch 16/40\n",
      "\u001b[1m27/27\u001b[0m \u001b[32m━━━━━━━━━━━━━━━━━━━━\u001b[0m\u001b[37m\u001b[0m \u001b[1m0s\u001b[0m 5ms/step - accuracy: 0.5764 - loss: 0.7643 - val_accuracy: 0.5455 - val_loss: 0.6752\n",
      "Epoch 17/40\n",
      "\u001b[1m27/27\u001b[0m \u001b[32m━━━━━━━━━━━━━━━━━━━━\u001b[0m\u001b[37m\u001b[0m \u001b[1m0s\u001b[0m 5ms/step - accuracy: 0.6056 - loss: 0.7685 - val_accuracy: 0.5253 - val_loss: 0.6948\n",
      "Epoch 18/40\n",
      "\u001b[1m27/27\u001b[0m \u001b[32m━━━━━━━━━━━━━━━━━━━━\u001b[0m\u001b[37m\u001b[0m \u001b[1m0s\u001b[0m 5ms/step - accuracy: 0.5992 - loss: 0.7472 - val_accuracy: 0.6364 - val_loss: 0.6733\n",
      "Epoch 19/40\n",
      "\u001b[1m27/27\u001b[0m \u001b[32m━━━━━━━━━━━━━━━━━━━━\u001b[0m\u001b[37m\u001b[0m \u001b[1m0s\u001b[0m 5ms/step - accuracy: 0.5943 - loss: 0.7264 - val_accuracy: 0.6970 - val_loss: 0.6544\n",
      "Epoch 20/40\n",
      "\u001b[1m27/27\u001b[0m \u001b[32m━━━━━━━━━━━━━━━━━━━━\u001b[0m\u001b[37m\u001b[0m \u001b[1m0s\u001b[0m 5ms/step - accuracy: 0.6206 - loss: 0.7093 - val_accuracy: 0.6768 - val_loss: 0.6562\n",
      "Epoch 21/40\n",
      "\u001b[1m27/27\u001b[0m \u001b[32m━━━━━━━━━━━━━━━━━━━━\u001b[0m\u001b[37m\u001b[0m \u001b[1m0s\u001b[0m 5ms/step - accuracy: 0.6215 - loss: 0.7164 - val_accuracy: 0.6364 - val_loss: 0.6582\n",
      "Epoch 22/40\n",
      "\u001b[1m27/27\u001b[0m \u001b[32m━━━━━━━━━━━━━━━━━━━━\u001b[0m\u001b[37m\u001b[0m \u001b[1m0s\u001b[0m 7ms/step - accuracy: 0.6013 - loss: 0.7109 - val_accuracy: 0.5859 - val_loss: 0.6630\n",
      "Epoch 23/40\n",
      "\u001b[1m27/27\u001b[0m \u001b[32m━━━━━━━━━━━━━━━━━━━━\u001b[0m\u001b[37m\u001b[0m \u001b[1m0s\u001b[0m 5ms/step - accuracy: 0.6127 - loss: 0.7090 - val_accuracy: 0.6061 - val_loss: 0.6618\n",
      "Epoch 24/40\n",
      "\u001b[1m27/27\u001b[0m \u001b[32m━━━━━━━━━━━━━━━━━━━━\u001b[0m\u001b[37m\u001b[0m \u001b[1m0s\u001b[0m 5ms/step - accuracy: 0.5970 - loss: 0.7111 - val_accuracy: 0.5960 - val_loss: 0.6874\n",
      "Epoch 25/40\n",
      "\u001b[1m27/27\u001b[0m \u001b[32m━━━━━━━━━━━━━━━━━━━━\u001b[0m\u001b[37m\u001b[0m \u001b[1m0s\u001b[0m 5ms/step - accuracy: 0.6271 - loss: 0.6962 - val_accuracy: 0.6263 - val_loss: 0.6476\n",
      "Epoch 26/40\n",
      "\u001b[1m27/27\u001b[0m \u001b[32m━━━━━━━━━━━━━━━━━━━━\u001b[0m\u001b[37m\u001b[0m \u001b[1m0s\u001b[0m 4ms/step - accuracy: 0.6018 - loss: 0.7109 - val_accuracy: 0.6162 - val_loss: 0.6564\n",
      "Epoch 27/40\n",
      "\u001b[1m27/27\u001b[0m \u001b[32m━━━━━━━━━━━━━━━━━━━━\u001b[0m\u001b[37m\u001b[0m \u001b[1m0s\u001b[0m 5ms/step - accuracy: 0.6244 - loss: 0.7024 - val_accuracy: 0.5455 - val_loss: 0.6890\n",
      "Epoch 28/40\n",
      "\u001b[1m27/27\u001b[0m \u001b[32m━━━━━━━━━━━━━━━━━━━━\u001b[0m\u001b[37m\u001b[0m \u001b[1m0s\u001b[0m 5ms/step - accuracy: 0.6201 - loss: 0.6787 - val_accuracy: 0.5859 - val_loss: 0.6877\n",
      "Epoch 29/40\n",
      "\u001b[1m27/27\u001b[0m \u001b[32m━━━━━━━━━━━━━━━━━━━━\u001b[0m\u001b[37m\u001b[0m \u001b[1m0s\u001b[0m 5ms/step - accuracy: 0.6083 - loss: 0.6895 - val_accuracy: 0.5253 - val_loss: 0.6808\n",
      "Epoch 30/40\n",
      "\u001b[1m27/27\u001b[0m \u001b[32m━━━━━━━━━━━━━━━━━━━━\u001b[0m\u001b[37m\u001b[0m \u001b[1m0s\u001b[0m 5ms/step - accuracy: 0.6443 - loss: 0.6622 - val_accuracy: 0.5556 - val_loss: 0.6592\n",
      "Epoch 31/40\n",
      "\u001b[1m27/27\u001b[0m \u001b[32m━━━━━━━━━━━━━━━━━━━━\u001b[0m\u001b[37m\u001b[0m \u001b[1m0s\u001b[0m 5ms/step - accuracy: 0.6166 - loss: 0.6848 - val_accuracy: 0.5253 - val_loss: 0.6956\n",
      "Epoch 32/40\n",
      "\u001b[1m27/27\u001b[0m \u001b[32m━━━━━━━━━━━━━━━━━━━━\u001b[0m\u001b[37m\u001b[0m \u001b[1m0s\u001b[0m 5ms/step - accuracy: 0.6626 - loss: 0.6728 - val_accuracy: 0.5657 - val_loss: 0.6793\n",
      "Epoch 33/40\n",
      "\u001b[1m27/27\u001b[0m \u001b[32m━━━━━━━━━━━━━━━━━━━━\u001b[0m\u001b[37m\u001b[0m \u001b[1m0s\u001b[0m 5ms/step - accuracy: 0.6542 - loss: 0.6386 - val_accuracy: 0.4747 - val_loss: 0.7180\n",
      "Epoch 34/40\n",
      "\u001b[1m27/27\u001b[0m \u001b[32m━━━━━━━━━━━━━━━━━━━━\u001b[0m\u001b[37m\u001b[0m \u001b[1m0s\u001b[0m 5ms/step - accuracy: 0.6321 - loss: 0.6701 - val_accuracy: 0.6263 - val_loss: 0.6856\n",
      "Epoch 35/40\n",
      "\u001b[1m27/27\u001b[0m \u001b[32m━━━━━━━━━━━━━━━━━━━━\u001b[0m\u001b[37m\u001b[0m \u001b[1m0s\u001b[0m 5ms/step - accuracy: 0.6261 - loss: 0.6804 - val_accuracy: 0.5657 - val_loss: 0.6737\n",
      "Epoch 36/40\n",
      "\u001b[1m27/27\u001b[0m \u001b[32m━━━━━━━━━━━━━━━━━━━━\u001b[0m\u001b[37m\u001b[0m \u001b[1m0s\u001b[0m 5ms/step - accuracy: 0.6222 - loss: 0.6573 - val_accuracy: 0.5960 - val_loss: 0.6790\n",
      "Epoch 37/40\n",
      "\u001b[1m27/27\u001b[0m \u001b[32m━━━━━━━━━━━━━━━━━━━━\u001b[0m\u001b[37m\u001b[0m \u001b[1m0s\u001b[0m 5ms/step - accuracy: 0.6453 - loss: 0.6766 - val_accuracy: 0.6162 - val_loss: 0.6523\n",
      "Epoch 38/40\n",
      "\u001b[1m27/27\u001b[0m \u001b[32m━━━━━━━━━━━━━━━━━━━━\u001b[0m\u001b[37m\u001b[0m \u001b[1m0s\u001b[0m 5ms/step - accuracy: 0.6154 - loss: 0.6804 - val_accuracy: 0.5960 - val_loss: 0.6832\n",
      "Epoch 39/40\n",
      "\u001b[1m27/27\u001b[0m \u001b[32m━━━━━━━━━━━━━━━━━━━━\u001b[0m\u001b[37m\u001b[0m \u001b[1m0s\u001b[0m 4ms/step - accuracy: 0.6096 - loss: 0.6712 - val_accuracy: 0.5354 - val_loss: 0.7248\n",
      "Epoch 40/40\n",
      "\u001b[1m27/27\u001b[0m \u001b[32m━━━━━━━━━━━━━━━━━━━━\u001b[0m\u001b[37m\u001b[0m \u001b[1m0s\u001b[0m 5ms/step - accuracy: 0.6019 - loss: 0.6935 - val_accuracy: 0.5455 - val_loss: 0.6990\n"
     ]
    }
   ],
   "source": [
    "# Train the model with the best hyperparameters\n",
    "best_model = tuner.hypermodel.build(best_hps)\n",
    "history = best_model.fit(X_train, y_train_cat, epochs=40, batch_size=32, validation_data=(X_val, y_val_cat))"
   ]
  },
  {
   "cell_type": "code",
   "execution_count": 20,
   "id": "ff6b5343-f69c-4e8c-a217-b5f6e2c5cccf",
   "metadata": {},
   "outputs": [
    {
     "name": "stdout",
     "output_type": "stream",
     "text": [
      "\u001b[1m4/4\u001b[0m \u001b[32m━━━━━━━━━━━━━━━━━━━━\u001b[0m\u001b[37m\u001b[0m \u001b[1m0s\u001b[0m 5ms/step  \n"
     ]
    }
   ],
   "source": [
    "# Extract true labels from the test_dataset:\n",
    "y_true = np.argmax(y_test_cat, axis=1)\n",
    "\n",
    "# Get predicted probabilities (y_pred_probs) using X_test:\n",
    "y_pred_probs = best_model.predict(X_test)\n",
    "\n",
    "# Convert predicted probabilities to class labels (y_pred):\n",
    "y_pred = np.argmax(y_pred_probs, axis=1)"
   ]
  },
  {
   "cell_type": "code",
   "execution_count": 21,
   "id": "d37637cf-1c95-4154-bc00-eba37365dac0",
   "metadata": {},
   "outputs": [
    {
     "name": "stdout",
     "output_type": "stream",
     "text": [
      "Test Loss: 0.6859\n",
      "Test Accuracy: 0.6406\n",
      "              precision    recall  f1-score   support\n",
      "\n",
      "     Sad (0)       0.00      0.00      0.00         0\n",
      " Neutral (1)       0.71      0.73      0.72        82\n",
      "   Happy (2)       0.50      0.48      0.49        46\n",
      "\n",
      "    accuracy                           0.64       128\n",
      "   macro avg       0.40      0.40      0.40       128\n",
      "weighted avg       0.64      0.64      0.64       128\n",
      "\n"
     ]
    },
    {
     "data": {
      "text/plain": [
       "<Figure size 600x500 with 0 Axes>"
      ]
     },
     "metadata": {},
     "output_type": "display_data"
    },
    {
     "data": {
      "image/png": "[encoded data removed]",
      "text/plain": [
       "<Figure size 640x480 with 2 Axes>"
      ]
     },
     "metadata": {},
     "output_type": "display_data"
    }
   ],
   "source": [
    "expected_labels = [0, 1, 2]\n",
    "target_names = ['Sad (0)', 'Neutral (1)', 'Happy (2)']\n",
    "\n",
    "# Evaluating the code using X_test and y_test_cat\n",
    "loss, acc = best_model.evaluate(X_test, y_test_cat, verbose=0) # Added verbose=0 to suppress output\n",
    "\n",
    "print(f\"Test Loss: {loss:.4f}\")\n",
    "print(f\"Test Accuracy: {acc:.4f}\")\n",
    "\n",
    "# Classification report\n",
    "print(classification_report(y_true, y_pred,\n",
    "                            labels=expected_labels,\n",
    "                            target_names=target_names,\n",
    "                            zero_division=0))\n",
    "\n",
    "# Confusion matrix\n",
    "cm = confusion_matrix(y_true, y_pred, labels=expected_labels)\n",
    "disp = ConfusionMatrixDisplay(confusion_matrix=cm, display_labels=target_names)\n",
    "\n",
    "plt.figure(figsize=(6, 5))\n",
    "disp.plot(cmap='Blues', values_format='d')\n",
    "plt.title(\"Confusion matrix\")\n",
    "plt.show()"
   ]
  },
  {
   "cell_type": "code",
   "execution_count": null,
   "id": "13a83743-ef22-40bb-9f2f-17b9db337943",
   "metadata": {},
   "outputs": [],
   "source": []
  }
 ],
 "metadata": {
  "kernelspec": {
   "display_name": "Python 3 (ipykernel)",
   "language": "python",
   "name": "python3"
  },
  "language_info": {
   "codemirror_mode": {
    "name": "ipython",
    "version": 3
   },
   "file_extension": ".py",
   "mimetype": "text/x-python",
   "name": "python",
   "nbconvert_exporter": "python",
   "pygments_lexer": "ipython3",
   "version": "3.12.4"
  }
 },
 "nbformat": 4,
 "nbformat_minor": 5
}
