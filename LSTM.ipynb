{
 "cells": [
  {
   "cell_type": "code",
   "execution_count": 1,
   "id": "6f7216e6-00a4-4c20-929b-b64f545202de",
   "metadata": {},
   "outputs": [],
   "source": [
    "import pandas as pd\n",
    "from sklearn.model_selection import TimeSeriesSplit, train_test_split\n",
    "import numpy as np\n",
    "import tensorflow as tf\n",
    "from tensorflow.keras.models import Sequential\n",
    "from tensorflow.keras.layers import Dense, LSTM, Dropout\n",
    "from sklearn.metrics import mean_squared_error, mean_absolute_error\n",
    "from tensorflow.keras.utils import to_categorical\n",
    "import matplotlib.pyplot as plt\n",
    "from sklearn.metrics import confusion_matrix, classification_report, ConfusionMatrixDisplay\n",
    "import seaborn as sns\n",
    "from sklearn.preprocessing import OneHotEncoder\n",
    "from tensorflow.keras.preprocessing.sequence import pad_sequences\n",
    "import keras_tuner as kt\n",
    "import random\n",
    "from sklearn.utils.class_weight import compute_class_weight\n",
    "from collections import Counter\n",
    "from tensorflow.keras import regularizers"
   ]
  },
  {
   "cell_type": "code",
   "execution_count": 2,
   "id": "5dc377ff-9993-4543-a28e-b7b87c178ae2",
   "metadata": {},
   "outputs": [],
   "source": [
    "# Set the random seed for reproducibility\n",
    "seed_value = 22\n",
    "random.seed(seed_value)\n",
    "np.random.seed(seed_value)\n",
    "tf.random.set_seed(seed_value)"
   ]
  },
  {
   "cell_type": "code",
   "execution_count": 3,
   "id": "7733e719-dccb-46a6-93c1-2f617171e679",
   "metadata": {},
   "outputs": [],
   "source": [
    "df=pd.read_csv(\"dataset.csv\")"
   ]
  },
  {
   "cell_type": "code",
   "execution_count": 4,
   "id": "e73f74a9-b38f-40b4-bc4c-c16eea097216",
   "metadata": {},
   "outputs": [
    {
     "data": {
      "text/plain": [
       "Index(['Unnamed: 0', 'activity', 'appCat.builtin', 'appCat.communication',\n",
       "       'appCat.entertainment', 'appCat.finance', 'appCat.game',\n",
       "       'appCat.office', 'appCat.other', 'appCat.social', 'appCat.travel',\n",
       "       'appCat.unknown', 'appCat.utilities', 'appCat.weather', 'call',\n",
       "       'circumplex.arousal', 'circumplex.valence', 'mood', 'screen', 'sms',\n",
       "       'id', 'day', 'target_mood'],\n",
       "      dtype='object')"
      ]
     },
     "execution_count": 4,
     "metadata": {},
     "output_type": "execute_result"
    }
   ],
   "source": [
    "df.columns"
   ]
  },
  {
   "cell_type": "code",
   "execution_count": 5,
   "id": "9f6180f9-afc3-46a7-adf2-d9eea728f1bf",
   "metadata": {},
   "outputs": [],
   "source": [
    "#sort by data \n",
    "df['day'] = pd.to_datetime(df['day'])\n",
    "df = df.sort_values(by='day')"
   ]
  },
  {
   "cell_type": "code",
   "execution_count": 6,
   "id": "3a85b86f-c255-4935-b457-a65dcdd61869",
   "metadata": {},
   "outputs": [
    {
     "data": {
      "text/plain": [
       "541   2014-03-13\n",
       "268   2014-03-13\n",
       "396   2014-03-13\n",
       "127   2014-03-14\n",
       "489   2014-03-14\n",
       "         ...    \n",
       "809   2014-06-03\n",
       "810   2014-06-04\n",
       "811   2014-06-05\n",
       "812   2014-06-06\n",
       "813   2014-06-07\n",
       "Name: day, Length: 1169, dtype: datetime64[ns]"
      ]
     },
     "execution_count": 6,
     "metadata": {},
     "output_type": "execute_result"
    }
   ],
   "source": [
    "df['day']"
   ]
  },
  {
   "cell_type": "code",
   "execution_count": 7,
   "id": "23c5e878-c804-4ec3-859f-5a425e543976",
   "metadata": {},
   "outputs": [
    {
     "name": "stdout",
     "output_type": "stream",
     "text": [
      "id\n",
      "AS14.01    44\n",
      "AS14.02    37\n",
      "AS14.03    46\n",
      "AS14.05    52\n",
      "AS14.06    43\n",
      "AS14.07    46\n",
      "AS14.08    53\n",
      "AS14.09    36\n",
      "AS14.12    39\n",
      "AS14.13    51\n",
      "AS14.14    42\n",
      "AS14.15    52\n",
      "AS14.16    52\n",
      "AS14.17    44\n",
      "AS14.19    45\n",
      "AS14.20    40\n",
      "AS14.23    38\n",
      "AS14.24    54\n",
      "AS14.25    29\n",
      "AS14.26    45\n",
      "AS14.27    40\n",
      "AS14.28    37\n",
      "AS14.29    40\n",
      "AS14.30    45\n",
      "AS14.31    42\n",
      "AS14.32    36\n",
      "AS14.33    41\n",
      "Name: day, dtype: int64\n"
     ]
    }
   ],
   "source": [
    "#verify how many days are there per person\n",
    "day_counts = df.groupby('id')['day'].nunique()\n",
    "print(day_counts)"
   ]
  },
  {
   "cell_type": "code",
   "execution_count": 8,
   "id": "c6234014-6c25-48c1-bfb2-990d0b55490e",
   "metadata": {},
   "outputs": [
    {
     "data": {
      "text/plain": [
       "86"
      ]
     },
     "execution_count": 8,
     "metadata": {},
     "output_type": "execute_result"
    }
   ],
   "source": [
    "len(df['day'].unique())"
   ]
  },
  {
   "cell_type": "code",
   "execution_count": 9,
   "id": "2e7e8fe9-75f5-4032-be67-726f53d39847",
   "metadata": {},
   "outputs": [
    {
     "data": {
      "text/plain": [
       "27"
      ]
     },
     "execution_count": 9,
     "metadata": {},
     "output_type": "execute_result"
    }
   ],
   "source": [
    "list_names = df['id'].unique()\n",
    "len(df['id'].unique())"
   ]
  },
  {
   "cell_type": "code",
   "execution_count": 10,
   "id": "e05149ef-e36b-47c8-923d-f487fc301de9",
   "metadata": {},
   "outputs": [
    {
     "name": "stdout",
     "output_type": "stream",
     "text": [
      "Mean:              6.9893\n",
      "Median :       7.0000\n",
      "25th percentile : 6.6000\n",
      "75th percentile : 7.5000\n",
      "IQR: 0.9000\n"
     ]
    },
    {
     "data": {
      "image/png": "[encoded data removed]",
      "text/plain": [
       "<Figure size 600x400 with 1 Axes>"
      ]
     },
     "metadata": {},
     "output_type": "display_data"
    }
   ],
   "source": [
    "\n",
    "mean_val = df['target_mood'].mean()\n",
    "median_val = df['target_mood'].median() # \n",
    "q1_val = df['target_mood'].quantile(0.25) \n",
    "q3_val = df['target_mood'].quantile(0.75)\n",
    "iqr_val = q3_val - q1_val\n",
    "\n",
    "print(f\"Mean:              {mean_val:.4f}\")\n",
    "print(f\"Median :       {median_val:.4f}\")\n",
    "print(f\"25th percentile : {q1_val:.4f}\")\n",
    "print(f\"75th percentile : {q3_val:.4f}\")\n",
    "print(f\"IQR: {iqr_val:.4f}\")\n",
    "\n",
    "plt.figure(figsize=(6, 4))\n",
    "sns.boxplot(y=df['target_mood']) \n",
    "plt.show()"
   ]
  },
  {
   "cell_type": "code",
   "execution_count": 11,
   "id": "6683abf2-654d-4fc5-ab30-dfb744d6674d",
   "metadata": {},
   "outputs": [],
   "source": [
    "def map_mood_to_class(mood):\n",
    "    if mood <= 5.5:\n",
    "        return 0  # Unhappy\n",
    "    elif mood <= 7:\n",
    "        return 1  # Happy\n",
    "    else:\n",
    "        return 2  # Very happy\n",
    "        \n",
    "#create new categrocal target value\n",
    "df[\"mood_class\"] = df[\"target_mood\"].apply(map_mood_to_class)\n",
    "\n",
    "df['mood_class'].value_counts(dropna=False).sort_index()\n",
    "num_classes = 3"
   ]
  },
  {
   "cell_type": "code",
   "execution_count": 12,
   "id": "0d915da7-f3b8-4891-b18e-1c2d506fc079",
   "metadata": {},
   "outputs": [],
   "source": [
    "list_names = df['id'].unique()\n",
    "train_names = list_names[:21]\n",
    "val_names = list_names[21:24]\n",
    "test_names = list_names[24:27]\n"
   ]
  },
  {
   "cell_type": "code",
   "execution_count": 13,
   "id": "cb8fbb3b-ba99-40b4-ac75-fab9d5ce41f0",
   "metadata": {},
   "outputs": [],
   "source": [
    "window_size = 3 # parameter - Defines the size of the sliding window (number of consecutive days) for creating sequences.\n",
    "X_all = [] # Initialize an empty list to store all feature sequences.\n",
    "y_all = [] # Initialize an empty list to store all target mood classes.\n",
    "subject_seq_ids = [] # Initialize an empty list to store the subject ID for each sequence.\n",
    "\n",
    "for subj in df['id'].unique(): # Iterate through each unique subject ID in the 'id' column of the DataFrame.\n",
    "    df_subj = df[df['id'] == subj].sort_values('day') # Filter the DataFrame to get data for the current subject and sort it by day.\n",
    "    features = df_subj.drop(columns=['id', 'day', 'target_mood', 'Unnamed: 0', 'mood_class']).to_numpy() # Extract feature columns (excluding identifiers, target, and mood_class) and convert to a NumPy array.\n",
    "    targets = df_subj['mood_class'].to_numpy() # Extract the 'mood_class' column (target variable) and convert to a NumPy array.\n",
    "\n",
    "    for i in range(len(df_subj) - window_size): # Iterate through the data points of the current subject to create sequences.\n",
    "        X_all.append(features[i:i+window_size]) # Append a sequence of 'window_size' consecutive feature vectors to X_all.\n",
    "        y_all.append(targets[i+window_size]) # Append the target mood class (the day after the window) to y_all.\n",
    "        subject_seq_ids.append(subj)  # track who this sample belongs to - Append the subject ID for the current sequence.\n",
    "\n",
    "X_all = np.array(X_all) # Convert the list of feature sequences to a NumPy array.\n",
    "y_all_cat = to_categorical(y_all, num_classes=3) # Convert the list of target labels to one-hot encoded categorical format (3 classes).\n",
    "subject_seq_ids = np.array(subject_seq_ids) # Convert the list of subject IDs to a NumPy array.\n"
   ]
  },
  {
   "cell_type": "code",
   "execution_count": 14,
   "id": "c4866877-a9a7-4543-9148-600a0de97b58",
   "metadata": {},
   "outputs": [
    {
     "name": "stdout",
     "output_type": "stream",
     "text": [
      "Train shape: (855, 3, 19)\n",
      "Val shape: (102, 3, 19)\n",
      "Test shape: (131, 3, 19)\n"
     ]
    }
   ],
   "source": [
    "# Convert train/val/test subject names to sets for faster lookup\n",
    "train_ids = set(train_names)\n",
    "val_ids = set(val_names)\n",
    "test_ids = set(test_names)\n",
    "\n",
    "# Create boolean masks\n",
    "train_mask = np.isin(subject_seq_ids, list(train_ids))\n",
    "val_mask = np.isin(subject_seq_ids, list(val_ids))\n",
    "test_mask = np.isin(subject_seq_ids, list(test_ids))\n",
    "\n",
    "# Split the data\n",
    "X_train = X_all[train_mask]\n",
    "y_train_cat = y_all_cat[train_mask]\n",
    "\n",
    "X_val = X_all[val_mask]\n",
    "y_val_cat = y_all_cat[val_mask]\n",
    "\n",
    "X_test = X_all[test_mask]\n",
    "y_test_cat = y_all_cat[test_mask]\n",
    "\n",
    "print(\"Train shape:\", X_train.shape)\n",
    "print(\"Val shape:\", X_val.shape)\n",
    "print(\"Test shape:\", X_test.shape)\n",
    "\n",
    "num_features = X_train.shape[2] "
   ]
  },
  {
   "cell_type": "code",
   "execution_count": 15,
   "id": "f74eff45-2f3e-4813-b0d3-b500b29a4f4d",
   "metadata": {},
   "outputs": [],
   "source": [
    "y_train_labels = np.argmax(y_train_cat, axis=1)\n",
    "class_weights = compute_class_weight('balanced', classes=np.unique(y_train_labels), y=y_train_labels)\n",
    "class_weight_dict = {i: weight for i, weight in enumerate(class_weights)}"
   ]
  },
  {
   "cell_type": "code",
   "execution_count": 16,
   "id": "9642cc26-28f0-43b4-b879-150074671b03",
   "metadata": {},
   "outputs": [],
   "source": [
    "def build_model(hp):\n",
    "    model = Sequential()\n",
    "    model.add(LSTM(units=hp.Int('units_lstm1', min_value=32, max_value=256, step=32),\n",
    "                   return_sequences=True,\n",
    "                   input_shape=(window_size, num_features)))\n",
    "    model.add(Dropout(hp.Float('dropout_rate1', min_value=0.1, max_value=0.5, step=0.1)))\n",
    "    model.add(LSTM(units=hp.Int('units_lstm2', min_value=16, max_value=128, step=16)))\n",
    "    model.add(Dense(units=hp.Int('units_dense', min_value=8, max_value=64, step=8),\n",
    "                    activation='relu'))\n",
    "    model.add(Dropout(hp.Float('dropout_rate2', min_value=0.05, max_value=0.4, step=0.05)))\n",
    "    model.add(Dense(3, activation='softmax'))\n",
    "    optimizer = hp.Choice('optimizer', values=['adam', 'rmsprop', 'sgd', 'nadam'])\n",
    "    model.compile(optimizer=optimizer,\n",
    "                  loss='categorical_crossentropy',\n",
    "                  metrics=['accuracy'])\n",
    "    return model\n"
   ]
  },
  {
   "cell_type": "code",
   "execution_count": 17,
   "id": "1840c984-1dcf-498b-b3ec-7ae3ffdc0f74",
   "metadata": {},
   "outputs": [
    {
     "name": "stdout",
     "output_type": "stream",
     "text": [
      "Trial 50 Complete [00h 00m 14s]\n",
      "val_accuracy: 0.6666666865348816\n",
      "\n",
      "Best val_accuracy So Far: 0.686274528503418\n",
      "Total elapsed time: 00h 08m 09s\n"
     ]
    }
   ],
   "source": [
    "tuner = kt.RandomSearch(\n",
    "    build_model,\n",
    "    objective='val_accuracy',\n",
    "    max_trials=50,\n",
    "    directory=\"my_dir\",\n",
    "    project_name=\"nn_tuning\" \n",
    "   , overwrite=True\n",
    ")\n",
    "\n",
    "stop_early = tf.keras.callbacks.EarlyStopping(monitor='val_loss', patience=3)\n",
    "################################################################################### HYPERPARAMTER TUNING ONLY FOR THE DEFAULT TRAININSDATA\n",
    "tuner.search(\n",
    "    X_train, y_train_cat,\n",
    "    epochs=100,\n",
    "    validation_data=(X_val, y_val_cat),\n",
    "    callbacks=[stop_early],\n",
    "    verbose=1 \n",
    "    #,class_weight= class_weight_dict\n",
    "\n",
    ")"
   ]
  },
  {
   "cell_type": "code",
   "execution_count": 18,
   "id": "d9254fd2-9371-4a6b-9000-c540c7056ff0",
   "metadata": {},
   "outputs": [
    {
     "name": "stdout",
     "output_type": "stream",
     "text": [
      "Best Hyperparameters Dictionary: {'units_lstm1': 128, 'dropout_rate1': 0.2, 'units_lstm2': 112, 'units_dense': 8, 'dropout_rate2': 0.2, 'optimizer': 'sgd'}\n"
     ]
    }
   ],
   "source": [
    "best_hps = tuner.get_best_hyperparameters(num_trials=1)[0]\n",
    "print(\"Best Hyperparameters Dictionary:\", best_hps.values)\n"
   ]
  },
  {
   "cell_type": "code",
   "execution_count": 19,
   "id": "48b8bd86-9235-4d48-a31c-63545d8a485b",
   "metadata": {},
   "outputs": [
    {
     "name": "stdout",
     "output_type": "stream",
     "text": [
      "Epoch 1/40\n",
      "\u001b[1m27/27\u001b[0m \u001b[32m━━━━━━━━━━━━━━━━━━━━\u001b[0m\u001b[37m\u001b[0m \u001b[1m4s\u001b[0m 31ms/step - accuracy: 0.4532 - loss: 1.0022 - val_accuracy: 0.4216 - val_loss: 0.8729\n",
      "Epoch 2/40\n",
      "\u001b[1m27/27\u001b[0m \u001b[32m━━━━━━━━━━━━━━━━━━━━\u001b[0m\u001b[37m\u001b[0m \u001b[1m0s\u001b[0m 8ms/step - accuracy: 0.4760 - loss: 0.9061 - val_accuracy: 0.4510 - val_loss: 0.8125\n",
      "Epoch 3/40\n",
      "\u001b[1m27/27\u001b[0m \u001b[32m━━━━━━━━━━━━━━━━━━━━\u001b[0m\u001b[37m\u001b[0m \u001b[1m0s\u001b[0m 8ms/step - accuracy: 0.5399 - loss: 0.8640 - val_accuracy: 0.4608 - val_loss: 0.7982\n",
      "Epoch 4/40\n",
      "\u001b[1m27/27\u001b[0m \u001b[32m━━━━━━━━━━━━━━━━━━━━\u001b[0m\u001b[37m\u001b[0m \u001b[1m0s\u001b[0m 8ms/step - accuracy: 0.5118 - loss: 0.8470 - val_accuracy: 0.4804 - val_loss: 0.7773\n",
      "Epoch 5/40\n",
      "\u001b[1m27/27\u001b[0m \u001b[32m━━━━━━━━━━━━━━━━━━━━\u001b[0m\u001b[37m\u001b[0m \u001b[1m0s\u001b[0m 8ms/step - accuracy: 0.5303 - loss: 0.8528 - val_accuracy: 0.5490 - val_loss: 0.7648\n",
      "Epoch 6/40\n",
      "\u001b[1m27/27\u001b[0m \u001b[32m━━━━━━━━━━━━━━━━━━━━\u001b[0m\u001b[37m\u001b[0m \u001b[1m0s\u001b[0m 8ms/step - accuracy: 0.5287 - loss: 0.8578 - val_accuracy: 0.5882 - val_loss: 0.7523\n",
      "Epoch 7/40\n",
      "\u001b[1m27/27\u001b[0m \u001b[32m━━━━━━━━━━━━━━━━━━━━\u001b[0m\u001b[37m\u001b[0m \u001b[1m0s\u001b[0m 8ms/step - accuracy: 0.5268 - loss: 0.8278 - val_accuracy: 0.6176 - val_loss: 0.7472\n",
      "Epoch 8/40\n",
      "\u001b[1m27/27\u001b[0m \u001b[32m━━━━━━━━━━━━━━━━━━━━\u001b[0m\u001b[37m\u001b[0m \u001b[1m0s\u001b[0m 8ms/step - accuracy: 0.5269 - loss: 0.8366 - val_accuracy: 0.4902 - val_loss: 0.7479\n",
      "Epoch 9/40\n",
      "\u001b[1m27/27\u001b[0m \u001b[32m━━━━━━━━━━━━━━━━━━━━\u001b[0m\u001b[37m\u001b[0m \u001b[1m0s\u001b[0m 8ms/step - accuracy: 0.5091 - loss: 0.8400 - val_accuracy: 0.5980 - val_loss: 0.7462\n",
      "Epoch 10/40\n",
      "\u001b[1m27/27\u001b[0m \u001b[32m━━━━━━━━━━━━━━━━━━━━\u001b[0m\u001b[37m\u001b[0m \u001b[1m0s\u001b[0m 8ms/step - accuracy: 0.5489 - loss: 0.8311 - val_accuracy: 0.4118 - val_loss: 0.7467\n",
      "Epoch 11/40\n",
      "\u001b[1m27/27\u001b[0m \u001b[32m━━━━━━━━━━━━━━━━━━━━\u001b[0m\u001b[37m\u001b[0m \u001b[1m0s\u001b[0m 8ms/step - accuracy: 0.5236 - loss: 0.8248 - val_accuracy: 0.5980 - val_loss: 0.7379\n",
      "Epoch 12/40\n",
      "\u001b[1m27/27\u001b[0m \u001b[32m━━━━━━━━━━━━━━━━━━━━\u001b[0m\u001b[37m\u001b[0m \u001b[1m0s\u001b[0m 8ms/step - accuracy: 0.5637 - loss: 0.8159 - val_accuracy: 0.5882 - val_loss: 0.7374\n",
      "Epoch 13/40\n",
      "\u001b[1m27/27\u001b[0m \u001b[32m━━━━━━━━━━━━━━━━━━━━\u001b[0m\u001b[37m\u001b[0m \u001b[1m0s\u001b[0m 8ms/step - accuracy: 0.5372 - loss: 0.8366 - val_accuracy: 0.5686 - val_loss: 0.7381\n",
      "Epoch 14/40\n",
      "\u001b[1m27/27\u001b[0m \u001b[32m━━━━━━━━━━━━━━━━━━━━\u001b[0m\u001b[37m\u001b[0m \u001b[1m0s\u001b[0m 8ms/step - accuracy: 0.5869 - loss: 0.8166 - val_accuracy: 0.5686 - val_loss: 0.7384\n",
      "Epoch 15/40\n",
      "\u001b[1m27/27\u001b[0m \u001b[32m━━━━━━━━━━━━━━━━━━━━\u001b[0m\u001b[37m\u001b[0m \u001b[1m0s\u001b[0m 8ms/step - accuracy: 0.5553 - loss: 0.8216 - val_accuracy: 0.5882 - val_loss: 0.7363\n",
      "Epoch 16/40\n",
      "\u001b[1m27/27\u001b[0m \u001b[32m━━━━━━━━━━━━━━━━━━━━\u001b[0m\u001b[37m\u001b[0m \u001b[1m0s\u001b[0m 8ms/step - accuracy: 0.5433 - loss: 0.8225 - val_accuracy: 0.5980 - val_loss: 0.7351\n",
      "Epoch 17/40\n",
      "\u001b[1m27/27\u001b[0m \u001b[32m━━━━━━━━━━━━━━━━━━━━\u001b[0m\u001b[37m\u001b[0m \u001b[1m0s\u001b[0m 8ms/step - accuracy: 0.5310 - loss: 0.8319 - val_accuracy: 0.5882 - val_loss: 0.7363\n",
      "Epoch 18/40\n",
      "\u001b[1m27/27\u001b[0m \u001b[32m━━━━━━━━━━━━━━━━━━━━\u001b[0m\u001b[37m\u001b[0m \u001b[1m0s\u001b[0m 8ms/step - accuracy: 0.5690 - loss: 0.8271 - val_accuracy: 0.5882 - val_loss: 0.7276\n",
      "Epoch 19/40\n",
      "\u001b[1m27/27\u001b[0m \u001b[32m━━━━━━━━━━━━━━━━━━━━\u001b[0m\u001b[37m\u001b[0m \u001b[1m0s\u001b[0m 9ms/step - accuracy: 0.5931 - loss: 0.8239 - val_accuracy: 0.5980 - val_loss: 0.7341\n",
      "Epoch 20/40\n",
      "\u001b[1m27/27\u001b[0m \u001b[32m━━━━━━━━━━━━━━━━━━━━\u001b[0m\u001b[37m\u001b[0m \u001b[1m0s\u001b[0m 9ms/step - accuracy: 0.5601 - loss: 0.8125 - val_accuracy: 0.6275 - val_loss: 0.7320\n",
      "Epoch 21/40\n",
      "\u001b[1m27/27\u001b[0m \u001b[32m━━━━━━━━━━━━━━━━━━━━\u001b[0m\u001b[37m\u001b[0m \u001b[1m0s\u001b[0m 8ms/step - accuracy: 0.5169 - loss: 0.8224 - val_accuracy: 0.5588 - val_loss: 0.7293\n",
      "Epoch 22/40\n",
      "\u001b[1m27/27\u001b[0m \u001b[32m━━━━━━━━━━━━━━━━━━━━\u001b[0m\u001b[37m\u001b[0m \u001b[1m0s\u001b[0m 8ms/step - accuracy: 0.5449 - loss: 0.8183 - val_accuracy: 0.6275 - val_loss: 0.7289\n",
      "Epoch 23/40\n",
      "\u001b[1m27/27\u001b[0m \u001b[32m━━━━━━━━━━━━━━━━━━━━\u001b[0m\u001b[37m\u001b[0m \u001b[1m0s\u001b[0m 8ms/step - accuracy: 0.5761 - loss: 0.8044 - val_accuracy: 0.5686 - val_loss: 0.7331\n",
      "Epoch 24/40\n",
      "\u001b[1m27/27\u001b[0m \u001b[32m━━━━━━━━━━━━━━━━━━━━\u001b[0m\u001b[37m\u001b[0m \u001b[1m0s\u001b[0m 8ms/step - accuracy: 0.5291 - loss: 0.8155 - val_accuracy: 0.5686 - val_loss: 0.7366\n",
      "Epoch 25/40\n",
      "\u001b[1m27/27\u001b[0m \u001b[32m━━━━━━━━━━━━━━━━━━━━\u001b[0m\u001b[37m\u001b[0m \u001b[1m0s\u001b[0m 8ms/step - accuracy: 0.5600 - loss: 0.8152 - val_accuracy: 0.5882 - val_loss: 0.7319\n",
      "Epoch 26/40\n",
      "\u001b[1m27/27\u001b[0m \u001b[32m━━━━━━━━━━━━━━━━━━━━\u001b[0m\u001b[37m\u001b[0m \u001b[1m0s\u001b[0m 8ms/step - accuracy: 0.5357 - loss: 0.8125 - val_accuracy: 0.5882 - val_loss: 0.7402\n",
      "Epoch 27/40\n",
      "\u001b[1m27/27\u001b[0m \u001b[32m━━━━━━━━━━━━━━━━━━━━\u001b[0m\u001b[37m\u001b[0m \u001b[1m0s\u001b[0m 8ms/step - accuracy: 0.5212 - loss: 0.8190 - val_accuracy: 0.5588 - val_loss: 0.7339\n",
      "Epoch 28/40\n",
      "\u001b[1m27/27\u001b[0m \u001b[32m━━━━━━━━━━━━━━━━━━━━\u001b[0m\u001b[37m\u001b[0m \u001b[1m0s\u001b[0m 8ms/step - accuracy: 0.5329 - loss: 0.8234 - val_accuracy: 0.6078 - val_loss: 0.7307\n",
      "Epoch 29/40\n",
      "\u001b[1m27/27\u001b[0m \u001b[32m━━━━━━━━━━━━━━━━━━━━\u001b[0m\u001b[37m\u001b[0m \u001b[1m0s\u001b[0m 8ms/step - accuracy: 0.5432 - loss: 0.8059 - val_accuracy: 0.5784 - val_loss: 0.7351\n",
      "Epoch 30/40\n",
      "\u001b[1m27/27\u001b[0m \u001b[32m━━━━━━━━━━━━━━━━━━━━\u001b[0m\u001b[37m\u001b[0m \u001b[1m0s\u001b[0m 9ms/step - accuracy: 0.5299 - loss: 0.8230 - val_accuracy: 0.5392 - val_loss: 0.7488\n",
      "Epoch 31/40\n",
      "\u001b[1m27/27\u001b[0m \u001b[32m━━━━━━━━━━━━━━━━━━━━\u001b[0m\u001b[37m\u001b[0m \u001b[1m0s\u001b[0m 8ms/step - accuracy: 0.5324 - loss: 0.8153 - val_accuracy: 0.5490 - val_loss: 0.7398\n",
      "Epoch 32/40\n",
      "\u001b[1m27/27\u001b[0m \u001b[32m━━━━━━━━━━━━━━━━━━━━\u001b[0m\u001b[37m\u001b[0m \u001b[1m0s\u001b[0m 8ms/step - accuracy: 0.5430 - loss: 0.8205 - val_accuracy: 0.5392 - val_loss: 0.7359\n",
      "Epoch 33/40\n",
      "\u001b[1m27/27\u001b[0m \u001b[32m━━━━━━━━━━━━━━━━━━━━\u001b[0m\u001b[37m\u001b[0m \u001b[1m0s\u001b[0m 8ms/step - accuracy: 0.5564 - loss: 0.8103 - val_accuracy: 0.5784 - val_loss: 0.7344\n",
      "Epoch 34/40\n",
      "\u001b[1m27/27\u001b[0m \u001b[32m━━━━━━━━━━━━━━━━━━━━\u001b[0m\u001b[37m\u001b[0m \u001b[1m0s\u001b[0m 8ms/step - accuracy: 0.5574 - loss: 0.8093 - val_accuracy: 0.5784 - val_loss: 0.7352\n",
      "Epoch 35/40\n",
      "\u001b[1m27/27\u001b[0m \u001b[32m━━━━━━━━━━━━━━━━━━━━\u001b[0m\u001b[37m\u001b[0m \u001b[1m0s\u001b[0m 9ms/step - accuracy: 0.5366 - loss: 0.8201 - val_accuracy: 0.5784 - val_loss: 0.7293\n",
      "Epoch 36/40\n",
      "\u001b[1m27/27\u001b[0m \u001b[32m━━━━━━━━━━━━━━━━━━━━\u001b[0m\u001b[37m\u001b[0m \u001b[1m0s\u001b[0m 8ms/step - accuracy: 0.5678 - loss: 0.8111 - val_accuracy: 0.4902 - val_loss: 0.7345\n",
      "Epoch 37/40\n",
      "\u001b[1m27/27\u001b[0m \u001b[32m━━━━━━━━━━━━━━━━━━━━\u001b[0m\u001b[37m\u001b[0m \u001b[1m0s\u001b[0m 8ms/step - accuracy: 0.5249 - loss: 0.8162 - val_accuracy: 0.5784 - val_loss: 0.7321\n",
      "Epoch 38/40\n",
      "\u001b[1m27/27\u001b[0m \u001b[32m━━━━━━━━━━━━━━━━━━━━\u001b[0m\u001b[37m\u001b[0m \u001b[1m0s\u001b[0m 9ms/step - accuracy: 0.5487 - loss: 0.8237 - val_accuracy: 0.5588 - val_loss: 0.7360\n",
      "Epoch 39/40\n",
      "\u001b[1m27/27\u001b[0m \u001b[32m━━━━━━━━━━━━━━━━━━━━\u001b[0m\u001b[37m\u001b[0m \u001b[1m0s\u001b[0m 9ms/step - accuracy: 0.5729 - loss: 0.8070 - val_accuracy: 0.5392 - val_loss: 0.7363\n",
      "Epoch 40/40\n",
      "\u001b[1m27/27\u001b[0m \u001b[32m━━━━━━━━━━━━━━━━━━━━\u001b[0m\u001b[37m\u001b[0m \u001b[1m0s\u001b[0m 8ms/step - accuracy: 0.5791 - loss: 0.8119 - val_accuracy: 0.5882 - val_loss: 0.7291\n"
     ]
    }
   ],
   "source": [
    "# Train the model with the best hyperparameters\n",
    "best_model = tuner.hypermodel.build(best_hps)\n",
    "history = best_model.fit(X_train, y_train_cat, epochs=40, batch_size=32, validation_data=(X_val, y_val_cat))"
   ]
  },
  {
   "cell_type": "code",
   "execution_count": 20,
   "id": "ff6b5343-f69c-4e8c-a217-b5f6e2c5cccf",
   "metadata": {},
   "outputs": [
    {
     "name": "stdout",
     "output_type": "stream",
     "text": [
      "\u001b[1m5/5\u001b[0m \u001b[32m━━━━━━━━━━━━━━━━━━━━\u001b[0m\u001b[37m\u001b[0m \u001b[1m1s\u001b[0m 95ms/step\n"
     ]
    }
   ],
   "source": [
    "# Extract true labels from the test_dataset:\n",
    "y_true = np.argmax(y_test_cat, axis=1)\n",
    "\n",
    "# Get predicted probabilities (y_pred_probs) using X_test:\n",
    "y_pred_probs = best_model.predict(X_test)\n",
    "\n",
    "# Convert predicted probabilities to class labels (y_pred):\n",
    "y_pred = np.argmax(y_pred_probs, axis=1)"
   ]
  },
  {
   "cell_type": "code",
   "execution_count": 21,
   "id": "d37637cf-1c95-4154-bc00-eba37365dac0",
   "metadata": {},
   "outputs": [
    {
     "name": "stdout",
     "output_type": "stream",
     "text": [
      "Test Loss: 0.8444\n",
      "Test Accuracy: 0.6031\n",
      "                precision    recall  f1-score   support\n",
      "\n",
      "   Unhappy (0)       0.00      0.00      0.00         7\n",
      "     Happy (1)       0.60      0.99      0.75        77\n",
      "Very Happy (2)       0.75      0.06      0.12        47\n",
      "\n",
      "      accuracy                           0.60       131\n",
      "     macro avg       0.45      0.35      0.29       131\n",
      "  weighted avg       0.62      0.60      0.48       131\n",
      "\n"
     ]
    },
    {
     "data": {
      "text/plain": [
       "<Figure size 600x500 with 0 Axes>"
      ]
     },
     "metadata": {},
     "output_type": "display_data"
    },
    {
     "data": {
      "image/png": "[encoded data removed]",
      "text/plain": [
       "<Figure size 640x480 with 2 Axes>"
      ]
     },
     "metadata": {},
     "output_type": "display_data"
    }
   ],
   "source": [
    "expected_labels = [0, 1, 2]\n",
    "target_names = ['Unhappy (0)', 'Happy (1)', 'Very Happy (2)']\n",
    "\n",
    "# Evaluating the code using X_test and y_test_cat\n",
    "loss, acc = best_model.evaluate(X_test, y_test_cat, verbose=0) # Added verbose=0 to suppress output\n",
    "\n",
    "print(f\"Test Loss: {loss:.4f}\")\n",
    "print(f\"Test Accuracy: {acc:.4f}\")\n",
    "\n",
    "# Classification report\n",
    "print(classification_report(y_true, y_pred,\n",
    "                            labels=expected_labels,\n",
    "                            target_names=target_names,\n",
    "                            zero_division=0))\n",
    "\n",
    "# Confusion matrix\n",
    "cm = confusion_matrix(y_true, y_pred, labels=expected_labels)\n",
    "disp = ConfusionMatrixDisplay(confusion_matrix=cm, display_labels=target_names)\n",
    "\n",
    "plt.figure(figsize=(6, 5))\n",
    "disp.plot(cmap='Blues', values_format='d')\n",
    "plt.title(\"Confusion matrix\")\n",
    "plt.show()"
   ]
  },
  {
   "cell_type": "code",
   "execution_count": null,
   "id": "13a83743-ef22-40bb-9f2f-17b9db337943",
   "metadata": {},
   "outputs": [],
   "source": []
  }
 ],
 "metadata": {
  "kernelspec": {
   "display_name": "Python 3 (ipykernel)",
   "language": "python",
   "name": "python3"
  },
  "language_info": {
   "codemirror_mode": {
    "name": "ipython",
    "version": 3
   },
   "file_extension": ".py",
   "mimetype": "text/x-python",
   "name": "python",
   "nbconvert_exporter": "python",
   "pygments_lexer": "ipython3",
   "version": "3.12.4"
  }
 },
 "nbformat": 4,
 "nbformat_minor": 5
}
