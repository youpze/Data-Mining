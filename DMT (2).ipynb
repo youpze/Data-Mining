{
 "cells": [
  {
   "cell_type": "code",
   "execution_count": null,
   "id": "25ed0b4a-621d-44e3-80a8-7ac59c5f015c",
   "metadata": {},
   "outputs": [],
   "source": [
    "#1A: show statistics(mean,std,...) for each feature using groupby, make barplots to show distribution\n",
    "#1B: 1.impute missing values using mean value 2.impute missing values as 0\n",
    "#1C: re-format the data into patient, time, mood, activity, call..., aggregate by 5-day windows to generate instances for training"
   ]
  },
  {
   "cell_type": "code",
   "execution_count": 2,
   "id": "0bc349e0-6894-4613-8f3e-6bf2c12edab1",
   "metadata": {},
   "outputs": [],
   "source": [
    "import pandas as pd\n",
    "import matplotlib.pyplot as plt "
   ]
  },
  {
   "cell_type": "code",
   "execution_count": 8,
   "id": "07493d4e-11d1-4368-85df-7d225b65c65c",
   "metadata": {},
   "outputs": [],
   "source": [
    "rawdata=pd.read_csv(\"dataset_mood_smartphone.csv\")"
   ]
  },
  {
   "cell_type": "code",
   "execution_count": 9,
   "id": "5c2a6648-3bda-4b7a-b600-9bc93db38ed2",
   "metadata": {},
   "outputs": [
    {
     "data": {
      "text/html": [
       "<div>\n",
       "<style scoped>\n",
       "    .dataframe tbody tr th:only-of-type {\n",
       "        vertical-align: middle;\n",
       "    }\n",
       "\n",
       "    .dataframe tbody tr th {\n",
       "        vertical-align: top;\n",
       "    }\n",
       "\n",
       "    .dataframe thead th {\n",
       "        text-align: right;\n",
       "    }\n",
       "</style>\n",
       "<table border=\"1\" class=\"dataframe\">\n",
       "  <thead>\n",
       "    <tr style=\"text-align: right;\">\n",
       "      <th></th>\n",
       "      <th>Unnamed: 0</th>\n",
       "      <th>id</th>\n",
       "      <th>time</th>\n",
       "      <th>variable</th>\n",
       "      <th>value</th>\n",
       "    </tr>\n",
       "  </thead>\n",
       "  <tbody>\n",
       "    <tr>\n",
       "      <th>0</th>\n",
       "      <td>1</td>\n",
       "      <td>AS14.01</td>\n",
       "      <td>2014-02-26 13:00:00.000</td>\n",
       "      <td>mood</td>\n",
       "      <td>6.000</td>\n",
       "    </tr>\n",
       "    <tr>\n",
       "      <th>1</th>\n",
       "      <td>2</td>\n",
       "      <td>AS14.01</td>\n",
       "      <td>2014-02-26 15:00:00.000</td>\n",
       "      <td>mood</td>\n",
       "      <td>6.000</td>\n",
       "    </tr>\n",
       "    <tr>\n",
       "      <th>2</th>\n",
       "      <td>3</td>\n",
       "      <td>AS14.01</td>\n",
       "      <td>2014-02-26 18:00:00.000</td>\n",
       "      <td>mood</td>\n",
       "      <td>6.000</td>\n",
       "    </tr>\n",
       "    <tr>\n",
       "      <th>3</th>\n",
       "      <td>4</td>\n",
       "      <td>AS14.01</td>\n",
       "      <td>2014-02-26 21:00:00.000</td>\n",
       "      <td>mood</td>\n",
       "      <td>7.000</td>\n",
       "    </tr>\n",
       "    <tr>\n",
       "      <th>4</th>\n",
       "      <td>5</td>\n",
       "      <td>AS14.01</td>\n",
       "      <td>2014-02-27 09:00:00.000</td>\n",
       "      <td>mood</td>\n",
       "      <td>6.000</td>\n",
       "    </tr>\n",
       "    <tr>\n",
       "      <th>...</th>\n",
       "      <td>...</td>\n",
       "      <td>...</td>\n",
       "      <td>...</td>\n",
       "      <td>...</td>\n",
       "      <td>...</td>\n",
       "    </tr>\n",
       "    <tr>\n",
       "      <th>376907</th>\n",
       "      <td>2770399</td>\n",
       "      <td>AS14.30</td>\n",
       "      <td>2014-04-11 07:51:16.948</td>\n",
       "      <td>appCat.weather</td>\n",
       "      <td>8.032</td>\n",
       "    </tr>\n",
       "    <tr>\n",
       "      <th>376908</th>\n",
       "      <td>2772465</td>\n",
       "      <td>AS14.30</td>\n",
       "      <td>2014-04-19 11:00:32.747</td>\n",
       "      <td>appCat.weather</td>\n",
       "      <td>3.008</td>\n",
       "    </tr>\n",
       "    <tr>\n",
       "      <th>376909</th>\n",
       "      <td>2774026</td>\n",
       "      <td>AS14.30</td>\n",
       "      <td>2014-04-26 10:19:07.434</td>\n",
       "      <td>appCat.weather</td>\n",
       "      <td>7.026</td>\n",
       "    </tr>\n",
       "    <tr>\n",
       "      <th>376910</th>\n",
       "      <td>2774133</td>\n",
       "      <td>AS14.30</td>\n",
       "      <td>2014-04-27 00:44:48.450</td>\n",
       "      <td>appCat.weather</td>\n",
       "      <td>23.033</td>\n",
       "    </tr>\n",
       "    <tr>\n",
       "      <th>376911</th>\n",
       "      <td>2784435</td>\n",
       "      <td>AS14.32</td>\n",
       "      <td>2014-04-07 18:25:14.036</td>\n",
       "      <td>appCat.weather</td>\n",
       "      <td>22.431</td>\n",
       "    </tr>\n",
       "  </tbody>\n",
       "</table>\n",
       "<p>376912 rows × 5 columns</p>\n",
       "</div>"
      ],
      "text/plain": [
       "        Unnamed: 0       id                     time        variable   value\n",
       "0                1  AS14.01  2014-02-26 13:00:00.000            mood   6.000\n",
       "1                2  AS14.01  2014-02-26 15:00:00.000            mood   6.000\n",
       "2                3  AS14.01  2014-02-26 18:00:00.000            mood   6.000\n",
       "3                4  AS14.01  2014-02-26 21:00:00.000            mood   7.000\n",
       "4                5  AS14.01  2014-02-27 09:00:00.000            mood   6.000\n",
       "...            ...      ...                      ...             ...     ...\n",
       "376907     2770399  AS14.30  2014-04-11 07:51:16.948  appCat.weather   8.032\n",
       "376908     2772465  AS14.30  2014-04-19 11:00:32.747  appCat.weather   3.008\n",
       "376909     2774026  AS14.30  2014-04-26 10:19:07.434  appCat.weather   7.026\n",
       "376910     2774133  AS14.30  2014-04-27 00:44:48.450  appCat.weather  23.033\n",
       "376911     2784435  AS14.32  2014-04-07 18:25:14.036  appCat.weather  22.431\n",
       "\n",
       "[376912 rows x 5 columns]"
      ]
     },
     "execution_count": 9,
     "metadata": {},
     "output_type": "execute_result"
    }
   ],
   "source": [
    "rawdata"
   ]
  },
  {
   "cell_type": "code",
   "execution_count": 10,
   "id": "0e669f21-79a0-4522-a4e8-b61cfcd2452e",
   "metadata": {},
   "outputs": [],
   "source": [
    "rawdata=rawdata.drop('Unnamed: 0',axis=1)"
   ]
  },
  {
   "cell_type": "code",
   "execution_count": 34,
   "id": "cb532fef-3ee9-47bd-bcc2-4a351cf4d9e6",
   "metadata": {},
   "outputs": [
    {
     "data": {
      "text/plain": [
       "variable\n",
       "activity                  0.115958\n",
       "appCat.builtin           18.538262\n",
       "appCat.communication     43.343792\n",
       "appCat.entertainment     37.576480\n",
       "appCat.finance           21.755251\n",
       "appCat.game             128.391615\n",
       "appCat.office            22.578892\n",
       "appCat.other             25.810839\n",
       "appCat.social            72.401906\n",
       "appCat.travel            45.730850\n",
       "appCat.unknown           45.553006\n",
       "appCat.utilities         18.537552\n",
       "appCat.weather           20.148714\n",
       "call                      1.000000\n",
       "circumplex.arousal       -0.098624\n",
       "circumplex.valence        0.687808\n",
       "mood                      6.992555\n",
       "screen                   75.335206\n",
       "sms                       1.000000\n",
       "Name: value, dtype: float64"
      ]
     },
     "execution_count": 34,
     "metadata": {},
     "output_type": "execute_result"
    }
   ],
   "source": [
    "rawdata.groupby('variable')['value'].mean()"
   ]
  },
  {
   "cell_type": "code",
   "execution_count": 35,
   "id": "9fc669b1-377d-4c3c-b3c8-b9468123f13e",
   "metadata": {},
   "outputs": [
    {
     "data": {
      "text/plain": [
       "variable\n",
       "activity                    1.000\n",
       "appCat.builtin          33960.246\n",
       "appCat.communication     9830.777\n",
       "appCat.entertainment    32148.677\n",
       "appCat.finance            355.513\n",
       "appCat.game              5491.793\n",
       "appCat.office           32708.818\n",
       "appCat.other             3892.038\n",
       "appCat.social           30000.906\n",
       "appCat.travel           10452.615\n",
       "appCat.unknown           2239.937\n",
       "appCat.utilities         1802.649\n",
       "appCat.weather            344.863\n",
       "call                        1.000\n",
       "circumplex.arousal          2.000\n",
       "circumplex.valence          2.000\n",
       "mood                       10.000\n",
       "screen                   9867.007\n",
       "sms                         1.000\n",
       "Name: value, dtype: float64"
      ]
     },
     "execution_count": 35,
     "metadata": {},
     "output_type": "execute_result"
    }
   ],
   "source": [
    "rawdata.groupby('variable')['value'].max()"
   ]
  },
  {
   "cell_type": "code",
   "execution_count": 36,
   "id": "b97fa2c0-917b-4610-ad68-5ebabad2eb94",
   "metadata": {},
   "outputs": [
    {
     "data": {
      "text/plain": [
       "variable\n",
       "activity                    0.000\n",
       "appCat.builtin         -82798.871\n",
       "appCat.communication        0.006\n",
       "appCat.entertainment       -0.011\n",
       "appCat.finance              0.131\n",
       "appCat.game                 1.003\n",
       "appCat.office               0.003\n",
       "appCat.other                0.014\n",
       "appCat.social               0.094\n",
       "appCat.travel               0.080\n",
       "appCat.unknown              0.111\n",
       "appCat.utilities            0.246\n",
       "appCat.weather              1.003\n",
       "call                        1.000\n",
       "circumplex.arousal         -2.000\n",
       "circumplex.valence         -2.000\n",
       "mood                        1.000\n",
       "screen                      0.035\n",
       "sms                         1.000\n",
       "Name: value, dtype: float64"
      ]
     },
     "execution_count": 36,
     "metadata": {},
     "output_type": "execute_result"
    }
   ],
   "source": [
    "rawdata.groupby('variable')['value'].min()"
   ]
  },
  {
   "cell_type": "code",
   "execution_count": 11,
   "id": "79004c6f-aec9-46a9-aa92-5a5aabe9734a",
   "metadata": {},
   "outputs": [],
   "source": [
    "mood = rawdata[rawdata['variable']=='mood']"
   ]
  },
  {
   "cell_type": "code",
   "execution_count": 14,
   "id": "d6758db3-19d0-4dd5-a022-3b268075d1f9",
   "metadata": {},
   "outputs": [],
   "source": [
    "avgmood=mood.groupby(['id','day'])['value'].mean()"
   ]
  },
  {
   "cell_type": "code",
   "execution_count": 11,
   "id": "2f1b6ac4-2335-4914-87b2-5f19be0e8b5b",
   "metadata": {},
   "outputs": [],
   "source": [
    "rawdata['time']=pd.to_datetime(rawdata['time'])"
   ]
  },
  {
   "cell_type": "code",
   "execution_count": 32,
   "id": "8eed1293-8da7-426a-9120-24e2cf75a9b4",
   "metadata": {},
   "outputs": [],
   "source": [
    "rawdata=rawdata.drop('Unnamed: 0',axis=1)"
   ]
  },
  {
   "cell_type": "code",
   "execution_count": 86,
   "id": "f74b84fc-b627-409c-a5d1-3dfa08f8be81",
   "metadata": {},
   "outputs": [
    {
     "data": {
      "text/plain": [
       "variable\n",
       "circumplex.valence    156\n",
       "circumplex.arousal     46\n",
       "Name: count, dtype: int64"
      ]
     },
     "execution_count": 86,
     "metadata": {},
     "output_type": "execute_result"
    }
   ],
   "source": [
    "rawdata[rawdata['value'].isna()].variable.value_counts()"
   ]
  },
  {
   "cell_type": "code",
   "execution_count": 12,
   "id": "aad3f02a-c054-406c-817a-ea0e2169ed38",
   "metadata": {},
   "outputs": [],
   "source": [
    "rawdata.set_index('time',inplace=True)"
   ]
  },
  {
   "cell_type": "code",
   "execution_count": 13,
   "id": "3743421c-bb5a-406b-a27f-cdcf6f350322",
   "metadata": {},
   "outputs": [],
   "source": [
    "raw_resampled=rawdata.groupby(['id','variable']).resample('D').sum()['value']"
   ]
  },
  {
   "cell_type": "code",
   "execution_count": 14,
   "id": "fc0a96ef-51fe-4f9a-ae10-35bfd10bb053",
   "metadata": {},
   "outputs": [],
   "source": [
    "raw_resampled=raw_resampled.to_frame()"
   ]
  },
  {
   "cell_type": "code",
   "execution_count": 15,
   "id": "e3d7af38-a4d4-4457-bc2e-4f70cbd1cf00",
   "metadata": {},
   "outputs": [],
   "source": [
    "raw_resampled=raw_resampled.reset_index()"
   ]
  },
  {
   "cell_type": "code",
   "execution_count": 18,
   "id": "3410fde9-4590-43de-9d2c-ed265093de4c",
   "metadata": {},
   "outputs": [
    {
     "data": {
      "text/html": [
       "<div>\n",
       "<style scoped>\n",
       "    .dataframe tbody tr th:only-of-type {\n",
       "        vertical-align: middle;\n",
       "    }\n",
       "\n",
       "    .dataframe tbody tr th {\n",
       "        vertical-align: top;\n",
       "    }\n",
       "\n",
       "    .dataframe thead th {\n",
       "        text-align: right;\n",
       "    }\n",
       "</style>\n",
       "<table border=\"1\" class=\"dataframe\">\n",
       "  <thead>\n",
       "    <tr style=\"text-align: right;\">\n",
       "      <th></th>\n",
       "      <th>id</th>\n",
       "      <th>variable</th>\n",
       "      <th>time</th>\n",
       "      <th>value</th>\n",
       "    </tr>\n",
       "  </thead>\n",
       "  <tbody>\n",
       "    <tr>\n",
       "      <th>0</th>\n",
       "      <td>AS14.01</td>\n",
       "      <td>activity</td>\n",
       "      <td>2014-03-20</td>\n",
       "      <td>0.163095</td>\n",
       "    </tr>\n",
       "    <tr>\n",
       "      <th>1</th>\n",
       "      <td>AS14.01</td>\n",
       "      <td>activity</td>\n",
       "      <td>2014-03-21</td>\n",
       "      <td>3.083152</td>\n",
       "    </tr>\n",
       "    <tr>\n",
       "      <th>2</th>\n",
       "      <td>AS14.01</td>\n",
       "      <td>activity</td>\n",
       "      <td>2014-03-22</td>\n",
       "      <td>3.790084</td>\n",
       "    </tr>\n",
       "    <tr>\n",
       "      <th>3</th>\n",
       "      <td>AS14.01</td>\n",
       "      <td>activity</td>\n",
       "      <td>2014-03-23</td>\n",
       "      <td>2.141117</td>\n",
       "    </tr>\n",
       "    <tr>\n",
       "      <th>4</th>\n",
       "      <td>AS14.01</td>\n",
       "      <td>activity</td>\n",
       "      <td>2014-03-24</td>\n",
       "      <td>1.895065</td>\n",
       "    </tr>\n",
       "    <tr>\n",
       "      <th>...</th>\n",
       "      <td>...</td>\n",
       "      <td>...</td>\n",
       "      <td>...</td>\n",
       "      <td>...</td>\n",
       "    </tr>\n",
       "    <tr>\n",
       "      <th>20454</th>\n",
       "      <td>AS14.33</td>\n",
       "      <td>sms</td>\n",
       "      <td>2014-05-25</td>\n",
       "      <td>1.000000</td>\n",
       "    </tr>\n",
       "    <tr>\n",
       "      <th>20455</th>\n",
       "      <td>AS14.33</td>\n",
       "      <td>sms</td>\n",
       "      <td>2014-05-26</td>\n",
       "      <td>3.000000</td>\n",
       "    </tr>\n",
       "    <tr>\n",
       "      <th>20456</th>\n",
       "      <td>AS14.33</td>\n",
       "      <td>sms</td>\n",
       "      <td>2014-05-27</td>\n",
       "      <td>2.000000</td>\n",
       "    </tr>\n",
       "    <tr>\n",
       "      <th>20457</th>\n",
       "      <td>AS14.33</td>\n",
       "      <td>sms</td>\n",
       "      <td>2014-05-28</td>\n",
       "      <td>1.000000</td>\n",
       "    </tr>\n",
       "    <tr>\n",
       "      <th>20458</th>\n",
       "      <td>AS14.33</td>\n",
       "      <td>sms</td>\n",
       "      <td>2014-05-29</td>\n",
       "      <td>1.000000</td>\n",
       "    </tr>\n",
       "  </tbody>\n",
       "</table>\n",
       "<p>20459 rows × 4 columns</p>\n",
       "</div>"
      ],
      "text/plain": [
       "            id  variable       time     value\n",
       "0      AS14.01  activity 2014-03-20  0.163095\n",
       "1      AS14.01  activity 2014-03-21  3.083152\n",
       "2      AS14.01  activity 2014-03-22  3.790084\n",
       "3      AS14.01  activity 2014-03-23  2.141117\n",
       "4      AS14.01  activity 2014-03-24  1.895065\n",
       "...        ...       ...        ...       ...\n",
       "20454  AS14.33       sms 2014-05-25  1.000000\n",
       "20455  AS14.33       sms 2014-05-26  3.000000\n",
       "20456  AS14.33       sms 2014-05-27  2.000000\n",
       "20457  AS14.33       sms 2014-05-28  1.000000\n",
       "20458  AS14.33       sms 2014-05-29  1.000000\n",
       "\n",
       "[20459 rows x 4 columns]"
      ]
     },
     "execution_count": 18,
     "metadata": {},
     "output_type": "execute_result"
    }
   ],
   "source": [
    "raw_resampled"
   ]
  },
  {
   "cell_type": "code",
   "execution_count": null,
   "id": "93d7f42f-3b1d-474a-a244-0414ce13f045",
   "metadata": {},
   "outputs": [],
   "source": []
  }
 ],
 "metadata": {
  "kernelspec": {
   "display_name": "Python 3",
   "language": "python",
   "name": "python3"
  },
  "language_info": {
   "codemirror_mode": {
    "name": "ipython",
    "version": 3
   },
   "file_extension": ".py",
   "mimetype": "text/x-python",
   "name": "python",
   "nbconvert_exporter": "python",
   "pygments_lexer": "ipython3",
   "version": "3.8.20"
  }
 },
 "nbformat": 4,
 "nbformat_minor": 5
}
